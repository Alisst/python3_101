{
  "nbformat": 4,
  "nbformat_minor": 0,
  "metadata": {
    "kernelspec": {
      "name": "python3",
      "display_name": "Python 3"
    },
    "colab": {
      "name": "Python3 101.ipynb",
      "provenance": [],
      "include_colab_link": true
    }
  },
  "cells": [
    {
      "cell_type": "markdown",
      "metadata": {
        "id": "view-in-github",
        "colab_type": "text"
      },
      "source": [
        "<a href=\"https://colab.research.google.com/github/kaanberke/python3_101/blob/master/Python3%20101.ipynb\" target=\"_parent\"><img src=\"https://colab.research.google.com/assets/colab-badge.svg\" alt=\"Open In Colab\"/></a>"
      ]
    },
    {
      "cell_type": "markdown",
      "metadata": {
        "id": "xBq8uEszJkqw",
        "colab_type": "text"
      },
      "source": [
        "# Python 101"
      ]
    },
    {
      "cell_type": "markdown",
      "metadata": {
        "id": "HMUDlnzZJkqx",
        "colab_type": "text"
      },
      "source": [
        "![https://media.geeksforgeeks.org/wp-content/uploads/20191023173512/Python-data-structure.jpg](attachment:image.png)"
      ]
    },
    {
      "cell_type": "markdown",
      "metadata": {
        "id": "WF0c72S0Jkqy",
        "colab_type": "text"
      },
      "source": [
        "___\n",
        "## Karakter Dizileri ( Strings )"
      ]
    },
    {
      "cell_type": "code",
      "metadata": {
        "id": "WK9Tyo8qJkqz",
        "colab_type": "code",
        "colab": {
          "base_uri": "https://localhost:8080/",
          "height": 34
        },
        "outputId": "ae2e270b-aec3-4557-f5eb-21ef680e7718"
      },
      "source": [
        "'c'"
      ],
      "execution_count": 5,
      "outputs": [
        {
          "output_type": "execute_result",
          "data": {
            "text/plain": [
              "'c'"
            ]
          },
          "metadata": {
            "tags": []
          },
          "execution_count": 5
        }
      ]
    },
    {
      "cell_type": "code",
      "metadata": {
        "id": "2u69GOy6Jkq5",
        "colab_type": "code",
        "colab": {}
      },
      "source": [
        "' '\n",
        "\" \"\n",
        "\"\"\" \"\"\""
      ],
      "execution_count": 0,
      "outputs": []
    },
    {
      "cell_type": "code",
      "metadata": {
        "id": "bB2TZmfXJkq7",
        "colab_type": "code",
        "colab": {}
      },
      "source": [
        "\"Lorem ipsum\""
      ],
      "execution_count": 0,
      "outputs": []
    },
    {
      "cell_type": "code",
      "metadata": {
        "id": "2x4g3wh6Jkq9",
        "colab_type": "code",
        "colab": {}
      },
      "source": [
        "\"\"\"\n",
        "Lorem \n",
        "ipsum\n",
        "\"\"\""
      ],
      "execution_count": 0,
      "outputs": []
    },
    {
      "cell_type": "code",
      "metadata": {
        "id": "aYSkdveQJkq_",
        "colab_type": "code",
        "colab": {}
      },
      "source": [
        "type('Lorem ipsum')"
      ],
      "execution_count": 0,
      "outputs": []
    },
    {
      "cell_type": "code",
      "metadata": {
        "id": "f3hIC_cTJkrB",
        "colab_type": "code",
        "colab": {}
      },
      "source": [
        "\"Lorem\" +  \" \" + \"ipsum\""
      ],
      "execution_count": 0,
      "outputs": []
    },
    {
      "cell_type": "code",
      "metadata": {
        "id": "wFsjpwIsJkrE",
        "colab_type": "code",
        "colab": {}
      },
      "source": [
        "\"Python\" \" \" \"bir\" \" \" \"proglama\" \" \" \"dilidir.\""
      ],
      "execution_count": 0,
      "outputs": []
    },
    {
      "cell_type": "code",
      "metadata": {
        "id": "j2O1BKgfJkrG",
        "colab_type": "code",
        "colab": {}
      },
      "source": [
        "\"Python\"*2"
      ],
      "execution_count": 0,
      "outputs": []
    },
    {
      "cell_type": "markdown",
      "metadata": {
        "id": "vQse1DFIJkrI",
        "colab_type": "text"
      },
      "source": [
        "___\n",
        "## Sayılar ( Numbers )"
      ]
    },
    {
      "cell_type": "code",
      "metadata": {
        "id": "vHy6mIU1JkrI",
        "colab_type": "code",
        "colab": {}
      },
      "source": [
        "123"
      ],
      "execution_count": 0,
      "outputs": []
    },
    {
      "cell_type": "code",
      "metadata": {
        "id": "quas3r0gJkrK",
        "colab_type": "code",
        "colab": {}
      },
      "source": [
        "22.3"
      ],
      "execution_count": 0,
      "outputs": []
    },
    {
      "cell_type": "code",
      "metadata": {
        "id": "Ah4oWZ2QJkrM",
        "colab_type": "code",
        "colab": {}
      },
      "source": [
        "(7+2j)"
      ],
      "execution_count": 0,
      "outputs": []
    },
    {
      "cell_type": "markdown",
      "metadata": {
        "id": "LC5-o1chJkrO",
        "colab_type": "text"
      },
      "source": [
        "___\n",
        "## Aritmetik Oparatörler ( Arithmetic Operators )"
      ]
    },
    {
      "cell_type": "code",
      "metadata": {
        "id": "ECFbr1XuJkrO",
        "colab_type": "code",
        "colab": {}
      },
      "source": [
        "100 - 55"
      ],
      "execution_count": 0,
      "outputs": []
    },
    {
      "cell_type": "code",
      "metadata": {
        "id": "wZsYupFqJkrQ",
        "colab_type": "code",
        "colab": {}
      },
      "source": [
        "4.5 - 1.2"
      ],
      "execution_count": 0,
      "outputs": []
    },
    {
      "cell_type": "code",
      "metadata": {
        "id": "gKx04jX5JkrS",
        "colab_type": "code",
        "colab": {}
      },
      "source": [
        "4.5 * 2"
      ],
      "execution_count": 0,
      "outputs": []
    },
    {
      "cell_type": "code",
      "metadata": {
        "id": "3m1dbTPRJkrU",
        "colab_type": "code",
        "colab": {}
      },
      "source": [
        "10 / 2"
      ],
      "execution_count": 0,
      "outputs": []
    },
    {
      "cell_type": "code",
      "metadata": {
        "id": "GkaKS_zyJkrW",
        "colab_type": "code",
        "colab": {}
      },
      "source": [
        "4**2"
      ],
      "execution_count": 0,
      "outputs": []
    },
    {
      "cell_type": "code",
      "metadata": {
        "id": "x8nFQ7-2JkrY",
        "colab_type": "code",
        "colab": {}
      },
      "source": [
        "10 % 3"
      ],
      "execution_count": 0,
      "outputs": []
    },
    {
      "cell_type": "code",
      "metadata": {
        "id": "GkuRzYdiJkra",
        "colab_type": "code",
        "colab": {}
      },
      "source": [
        "10 // 3"
      ],
      "execution_count": 0,
      "outputs": []
    },
    {
      "cell_type": "code",
      "metadata": {
        "id": "HiVV2JdBJkrc",
        "colab_type": "code",
        "colab": {}
      },
      "source": [
        "pow(5, 2)"
      ],
      "execution_count": 0,
      "outputs": []
    },
    {
      "cell_type": "code",
      "metadata": {
        "id": "pvzE9wvCJkre",
        "colab_type": "code",
        "colab": {}
      },
      "source": [
        "type(2020)"
      ],
      "execution_count": 0,
      "outputs": []
    },
    {
      "cell_type": "code",
      "metadata": {
        "id": "sdr0D7FrJkrf",
        "colab_type": "code",
        "colab": {}
      },
      "source": [
        "saatlik_ücret = 10"
      ],
      "execution_count": 0,
      "outputs": []
    },
    {
      "cell_type": "code",
      "metadata": {
        "id": "blSdUaiwJkrh",
        "colab_type": "code",
        "colab": {}
      },
      "source": [
        "haftalık_çalışma_saati = 40"
      ],
      "execution_count": 0,
      "outputs": []
    },
    {
      "cell_type": "code",
      "metadata": {
        "id": "w84b9N1iJkrj",
        "colab_type": "code",
        "colab": {}
      },
      "source": [
        "maaş = haftalık_çalışma_saati * saatlik_ücret\n",
        "maaş"
      ],
      "execution_count": 0,
      "outputs": []
    },
    {
      "cell_type": "code",
      "metadata": {
        "id": "ipZ5R5XpJkrk",
        "colab_type": "code",
        "colab": {}
      },
      "source": [
        "username = \"loremipsum\""
      ],
      "execution_count": 0,
      "outputs": []
    },
    {
      "cell_type": "code",
      "metadata": {
        "id": "RWhzoaoNJkrn",
        "colab_type": "code",
        "colab": {}
      },
      "source": [
        "password = \"password\""
      ],
      "execution_count": 0,
      "outputs": []
    },
    {
      "cell_type": "code",
      "metadata": {
        "id": "bJ-h6zLIJkrp",
        "colab_type": "code",
        "colab": {}
      },
      "source": [
        "len(username)"
      ],
      "execution_count": 0,
      "outputs": []
    },
    {
      "cell_type": "code",
      "metadata": {
        "id": "bhiKQN4QJkrr",
        "colab_type": "code",
        "colab": {}
      },
      "source": [
        "len(username) + len(password)"
      ],
      "execution_count": 0,
      "outputs": []
    },
    {
      "cell_type": "code",
      "metadata": {
        "id": "0h-Svli1Jkrt",
        "colab_type": "code",
        "colab": {}
      },
      "source": [
        "sayı = 5\n",
        "# 5\n",
        "\n",
        "sayı += 5\n",
        "print(sayı)\n",
        "# 10\n",
        "\n",
        "sayı -= 5\n",
        "print(sayı)\n",
        "# 5\n",
        "\n",
        "sayı *= 5\n",
        "print(sayı)\n",
        "# 25\n",
        "\n",
        "sayı /= 5\n",
        "print(sayı)\n",
        "# 5.0\n",
        "\n",
        "sayı **= 2\n",
        "print(sayı)\n",
        "# 25.0\n",
        "\n",
        "sayı //= 4\n",
        "print(sayı)\n",
        "# 6.0\n",
        "\n",
        "sayı %= 5\n",
        "print(sayı)\n",
        "# 1.0"
      ],
      "execution_count": 0,
      "outputs": []
    },
    {
      "cell_type": "code",
      "metadata": {
        "id": "XZ3euUGuJkru",
        "colab_type": "code",
        "colab": {}
      },
      "source": [
        "#anahtar kelimeler\n",
        "import keyword\n",
        "keyword.kwlist"
      ],
      "execution_count": 0,
      "outputs": []
    },
    {
      "cell_type": "code",
      "metadata": {
        "id": "n-5-YeXNJkrw",
        "colab_type": "code",
        "colab": {}
      },
      "source": [
        "del maaş"
      ],
      "execution_count": 0,
      "outputs": []
    },
    {
      "cell_type": "markdown",
      "metadata": {
        "id": "OS_gd-AjJkry",
        "colab_type": "text"
      },
      "source": [
        "___\n",
        "## Değişkenler ( Variables )"
      ]
    },
    {
      "cell_type": "code",
      "metadata": {
        "id": "NVU2uRsKJkry",
        "colab_type": "code",
        "colab": {}
      },
      "source": [
        "değişken1 = 112\n",
        "değişken2 = 155"
      ],
      "execution_count": 0,
      "outputs": []
    },
    {
      "cell_type": "code",
      "metadata": {
        "id": "YtzLclPYJkr0",
        "colab_type": "code",
        "colab": {}
      },
      "source": [
        "değişken1"
      ],
      "execution_count": 0,
      "outputs": []
    },
    {
      "cell_type": "code",
      "metadata": {
        "id": "S_l93AIwJkr2",
        "colab_type": "code",
        "colab": {}
      },
      "source": [
        "değişken1, değişken2 = değişken2, değişken1"
      ],
      "execution_count": 0,
      "outputs": []
    },
    {
      "cell_type": "code",
      "metadata": {
        "id": "rjy2dTpmJkr3",
        "colab_type": "code",
        "colab": {}
      },
      "source": [
        "değişken1"
      ],
      "execution_count": 0,
      "outputs": []
    },
    {
      "cell_type": "markdown",
      "metadata": {
        "id": "oXefclbtJkr5",
        "colab_type": "text"
      },
      "source": [
        "___\n",
        "## Print Fonksiyonu"
      ]
    },
    {
      "cell_type": "code",
      "metadata": {
        "id": "zMyB-Ss8Jkr5",
        "colab_type": "code",
        "colab": {}
      },
      "source": [
        "print(\"Lorem\", \"Ipsum\", \"is\", \"simply\", \"dummy\", \"text\")"
      ],
      "execution_count": 0,
      "outputs": []
    },
    {
      "cell_type": "code",
      "metadata": {
        "id": "WjIT8y4NJkr7",
        "colab_type": "code",
        "colab": {}
      },
      "source": [
        "print(\"Lorem Ipsum is simply dummy text\", sep=\" \", end=\"\\n\")"
      ],
      "execution_count": 0,
      "outputs": []
    },
    {
      "cell_type": "code",
      "metadata": {
        "id": "zzrxTH1xJkr9",
        "colab_type": "code",
        "colab": {}
      },
      "source": [
        "print(\"Lorem\", \"Ipsum\", \"is\", \"simply\", \"dummy\", \"text\", sep=\"-\", end=\"\\n\")"
      ],
      "execution_count": 0,
      "outputs": []
    },
    {
      "cell_type": "code",
      "metadata": {
        "id": "PXC2avEeJkr-",
        "colab_type": "code",
        "colab": {}
      },
      "source": [
        "print(\"Lorem\", \"Ipsum\", \"is\", \"simply\", \"dummy\", \"text\", sep=\"-py-\", end=\"!!\")"
      ],
      "execution_count": 0,
      "outputs": []
    },
    {
      "cell_type": "code",
      "metadata": {
        "id": "ReIClT58JksB",
        "colab_type": "code",
        "colab": {}
      },
      "source": [
        "print(*\"Lorem ipsum\", sep=\"-\")"
      ],
      "execution_count": 0,
      "outputs": []
    },
    {
      "cell_type": "code",
      "metadata": {
        "id": "1bWuHVxxJksD",
        "colab_type": "code",
        "colab": {}
      },
      "source": [
        "print(\"Ölü\", \"Ozanlar\", \"Derneği\", 1989)"
      ],
      "execution_count": 0,
      "outputs": []
    },
    {
      "cell_type": "code",
      "metadata": {
        "id": "W2Qxkm6DJksF",
        "colab_type": "code",
        "colab": {}
      },
      "source": [
        "print(\"Python is an interpreted, high-level, general-purpose programming language. Created by Guido van Rossum and first released in 1991, Python has a design philosophy that emphasizes code readability, notably using significant whitespace. It provides constructs that enable clear programming on both small and large scales. \")"
      ],
      "execution_count": 0,
      "outputs": []
    },
    {
      "cell_type": "code",
      "metadata": {
        "id": "4O1dUaSLJksH",
        "colab_type": "code",
        "colab": {}
      },
      "source": [
        "print(\"Ölü \n",
        "      Ozanlar \n",
        "      Derneği\")"
      ],
      "execution_count": 0,
      "outputs": []
    },
    {
      "cell_type": "code",
      "metadata": {
        "id": "Whp0QyTfJksJ",
        "colab_type": "code",
        "colab": {}
      },
      "source": [
        "print(\"\"\"Ölü \n",
        "Ozanlar \n",
        "Derneği\"\"\")"
      ],
      "execution_count": 0,
      "outputs": []
    },
    {
      "cell_type": "code",
      "metadata": {
        "id": "c0pdZlIWJksM",
        "colab_type": "code",
        "colab": {}
      },
      "source": [
        "print(\"\\\"Dünya Güneş Venüs Mars\\\"\")"
      ],
      "execution_count": 0,
      "outputs": []
    },
    {
      "cell_type": "code",
      "metadata": {
        "id": "n1ItmqInJksO",
        "colab_type": "code",
        "colab": {}
      },
      "source": [
        "print(\"Gül sokak 10\\\\7 Merkez\\\\Niğde\")"
      ],
      "execution_count": 0,
      "outputs": []
    },
    {
      "cell_type": "code",
      "metadata": {
        "id": "VvH7DFFsJksP",
        "colab_type": "code",
        "colab": {}
      },
      "source": [
        "print(\"Eski Satırbaşı\\rYeni\")"
      ],
      "execution_count": 0,
      "outputs": []
    },
    {
      "cell_type": "code",
      "metadata": {
        "id": "Kcdy2EF8JksQ",
        "colab_type": "code",
        "colab": {}
      },
      "source": [
        "print(\"Birkaç satır\\taralık\")"
      ],
      "execution_count": 0,
      "outputs": []
    },
    {
      "cell_type": "markdown",
      "metadata": {
        "id": "3B7tlffyJksS",
        "colab_type": "text"
      },
      "source": [
        "___\n",
        "## Kullanıcıdan Veri Almak ( input() )"
      ]
    },
    {
      "cell_type": "code",
      "metadata": {
        "id": "dkLi7oGXJksS",
        "colab_type": "code",
        "colab": {}
      },
      "source": [
        "isim = input(\"İsminiz: \")\n",
        "yaş = input(\"Yaşınız: \")\n",
        "print(isim, yaş)"
      ],
      "execution_count": 0,
      "outputs": []
    },
    {
      "cell_type": "code",
      "metadata": {
        "id": "rn36GmZeJksT",
        "colab_type": "code",
        "colab": {}
      },
      "source": [
        "yaş + 10"
      ],
      "execution_count": 0,
      "outputs": []
    },
    {
      "cell_type": "code",
      "metadata": {
        "id": "khSPjLXwJksV",
        "colab_type": "code",
        "colab": {}
      },
      "source": [
        "type(yaş)"
      ],
      "execution_count": 0,
      "outputs": []
    },
    {
      "cell_type": "markdown",
      "metadata": {
        "id": "mq-btx0zJksY",
        "colab_type": "text"
      },
      "source": [
        "___\n",
        "## Tip Dönüşümleri ( Type Casting )"
      ]
    },
    {
      "cell_type": "code",
      "metadata": {
        "id": "pl9GcoiSJksY",
        "colab_type": "code",
        "colab": {}
      },
      "source": [
        "yaş = int(yaş) + 10\n",
        "print(yaş)\n",
        "print(type(yaş))"
      ],
      "execution_count": 0,
      "outputs": []
    },
    {
      "cell_type": "code",
      "metadata": {
        "id": "GT0_jzMIJksb",
        "colab_type": "code",
        "colab": {}
      },
      "source": [
        "yaş = float(yaş) + 5.5\n",
        "print(yaş)\n",
        "print(type(yaş))"
      ],
      "execution_count": 0,
      "outputs": []
    },
    {
      "cell_type": "code",
      "metadata": {
        "id": "tM7yyV_pJksd",
        "colab_type": "code",
        "colab": {}
      },
      "source": [
        "print(isim + \" \" + str(yaş) + \" yaşında!\")"
      ],
      "execution_count": 0,
      "outputs": []
    },
    {
      "cell_type": "code",
      "metadata": {
        "id": "A968qrVFJksf",
        "colab_type": "code",
        "colab": {}
      },
      "source": [
        "print(\"Üs hesaplamak için\")\n",
        "sayı1 = int(input(\"Taban sayıyı girin: \"))\n",
        "sayı2 = int(input(\"Üs sayıyı girin: \"))\n",
        "print(sayı1, \"**\", sayı2, \"=\", sayı1**sayı2)"
      ],
      "execution_count": 0,
      "outputs": []
    },
    {
      "cell_type": "code",
      "metadata": {
        "id": "xLAdbedkJksh",
        "colab_type": "code",
        "colab": {}
      },
      "source": [
        "print(\"Selam, benim adım {0} ve {1} yaşındayım!\".format(isim, 33))"
      ],
      "execution_count": 0,
      "outputs": []
    },
    {
      "cell_type": "code",
      "metadata": {
        "id": "TQgVS2PPJksi",
        "colab_type": "code",
        "colab": {}
      },
      "source": [
        "print(f\"Selam, benim adım {'John Doe'} ve {yaş} yaşındayım!\")"
      ],
      "execution_count": 0,
      "outputs": []
    },
    {
      "cell_type": "markdown",
      "metadata": {
        "id": "rInHfh0wJksj",
        "colab_type": "text"
      },
      "source": [
        "___\n",
        "## Koşullu Durumlar ( Condition Statements )"
      ]
    },
    {
      "cell_type": "code",
      "metadata": {
        "id": "AKf1VB6EJksk",
        "colab_type": "code",
        "colab": {}
      },
      "source": [
        "bool(\"\")"
      ],
      "execution_count": 0,
      "outputs": []
    },
    {
      "cell_type": "code",
      "metadata": {
        "id": "jFCUE4R0Jksm",
        "colab_type": "code",
        "colab": {}
      },
      "source": [
        "bool(0)"
      ],
      "execution_count": 0,
      "outputs": []
    },
    {
      "cell_type": "code",
      "metadata": {
        "id": "8LiNhp5DJksn",
        "colab_type": "code",
        "colab": {}
      },
      "source": [
        "bool(\"Lorem ipsum\")"
      ],
      "execution_count": 0,
      "outputs": []
    },
    {
      "cell_type": "code",
      "metadata": {
        "id": "-LXjzNywJksp",
        "colab_type": "code",
        "colab": {}
      },
      "source": [
        "bool(1234)"
      ],
      "execution_count": 0,
      "outputs": []
    },
    {
      "cell_type": "markdown",
      "metadata": {
        "id": "mxpEep9qJksq",
        "colab_type": "text"
      },
      "source": [
        "```\n",
        "==   Eşittir\n",
        "!=   Eşit Değildir\n",
        ">    Büyüktür\n",
        "<    Küçüktür\n",
        ">=   Büyük Eşittir\n",
        "<=   Küçük Eşittir\n",
        "```"
      ]
    },
    {
      "cell_type": "code",
      "metadata": {
        "id": "sYyNRA_kJksr",
        "colab_type": "code",
        "colab": {}
      },
      "source": [
        "print(\"(50 > 30) :\", (50 > 30))\n",
        "print(\"(20 > 30) :\", (20 > 30))\n",
        "print(\"(50 > 30) and (20 > 30) :\", (50 > 30) and (20 > 30))\n",
        "print(\"(50 > 30) or (20 > 30) :\", (50 > 30) or (20 > 30))"
      ],
      "execution_count": 0,
      "outputs": []
    },
    {
      "cell_type": "code",
      "metadata": {
        "id": "zsJgyfC0Jkss",
        "colab_type": "code",
        "colab": {}
      },
      "source": [
        "print(True and False)"
      ],
      "execution_count": 0,
      "outputs": []
    },
    {
      "cell_type": "code",
      "metadata": {
        "id": "FMVLr_PWJkst",
        "colab_type": "code",
        "colab": {}
      },
      "source": [
        "print(True and True)"
      ],
      "execution_count": 0,
      "outputs": []
    },
    {
      "cell_type": "code",
      "metadata": {
        "id": "AOgWL1PUJksu",
        "colab_type": "code",
        "colab": {}
      },
      "source": [
        "print(not True)"
      ],
      "execution_count": 0,
      "outputs": []
    },
    {
      "cell_type": "code",
      "metadata": {
        "id": "MFQ3lI0ZJksv",
        "colab_type": "code",
        "colab": {}
      },
      "source": [
        "a = int(input(\"Sayı giriniz:\"))\n",
        "\n",
        "if a < 10:\n",
        "    print(\"10'dan küçük!\")\n",
        "elif a < 15:\n",
        "    print(\"15'ten küçük!\")\n",
        "elif a <= 25:\n",
        "    print(\"25'ten küçük veya 25'e eşit!\")\n",
        "else:\n",
        "    print(\"25'ten büyük!\")"
      ],
      "execution_count": 0,
      "outputs": []
    },
    {
      "cell_type": "code",
      "metadata": {
        "id": "cqrX-afxJksx",
        "colab_type": "code",
        "colab": {}
      },
      "source": [
        "gerçek_kullanıcı = \"test\"\n",
        "gerçek_şifre = \"test\"\n",
        "\n",
        "sorulan_kullanıcı = input(\"Kullanıcı adınız:\")\n",
        "sorulan_şifre = input(\"Şifreniz:\")\n",
        "if gerçek_şifre == sorulan_şifre and gerçek_kullanıcı == sorulan_kullanıcı:\n",
        "    print(\"Giriş başarılı!\")\n",
        "elif not bool(sorulan_kullanıcı):\n",
        "    print(\"Kullanıcı adı alanı boş olamaz!\")\n",
        "elif not bool(sorulan_şifre):\n",
        "    print(\"Şifre alanı boş olamaz!\")\n",
        "else:\n",
        "    print(\"Kullanıcı adı veya şifre yanlış!\")"
      ],
      "execution_count": 0,
      "outputs": []
    },
    {
      "cell_type": "code",
      "metadata": {
        "id": "dSJOWv7cJksy",
        "colab_type": "code",
        "colab": {}
      },
      "source": [
        "cümle = \"\"\"Python, nesne yönelimli, yorumlamalı, \n",
        "birimsel ve etkileşimli yüksek seviyeli bir programlama dilidir.\"\"\"\n",
        "\n",
        "aranacak_sözcük = input(\"Sözcüğü giriniz:\")\n",
        "\n",
        "if aranacak_sözcük in cümle:\n",
        "    print(\"Aranan sözcük cümlede mevcut!\")\n",
        "else:\n",
        "    print(\"Cümlede öyle bir sözcük yok!\")"
      ],
      "execution_count": 0,
      "outputs": []
    },
    {
      "cell_type": "markdown",
      "metadata": {
        "id": "h3tDa46CJksz",
        "colab_type": "text"
      },
      "source": [
        "### Walrus Operator"
      ]
    },
    {
      "cell_type": "code",
      "metadata": {
        "id": "9FvOoOzHJksz",
        "colab_type": "code",
        "colab": {
          "base_uri": "https://localhost:8080/",
          "height": 130
        },
        "outputId": "3aa17a5d-d7d6-4edb-b69b-de32fa1680fd"
      },
      "source": [
        "if (yaş := int(input(\"Yaşınız: \"))) >= 18:\n",
        "    print(f\"{yaş} yaşındasınız, girebilirsiniz!\")\n",
        "else:\n",
        "    print(f\"{yaş} yaşındasınız, henüz giremezsiniz!\")"
      ],
      "execution_count": 1,
      "outputs": [
        {
          "output_type": "error",
          "ename": "SyntaxError",
          "evalue": "ignored",
          "traceback": [
            "\u001b[0;36m  File \u001b[0;32m\"<ipython-input-1-f410442da023>\"\u001b[0;36m, line \u001b[0;32m1\u001b[0m\n\u001b[0;31m    if (yaş := int(input(\"Yaşınız: \"))) >= 18:\u001b[0m\n\u001b[0m            ^\u001b[0m\n\u001b[0;31mSyntaxError\u001b[0m\u001b[0;31m:\u001b[0m invalid syntax\n"
          ]
        }
      ]
    },
    {
      "cell_type": "markdown",
      "metadata": {
        "id": "keNFEmgLJks1",
        "colab_type": "text"
      },
      "source": [
        "### Dosya İşlemleri ( File Operations )"
      ]
    },
    {
      "cell_type": "code",
      "metadata": {
        "id": "bLCRVYjGJks1",
        "colab_type": "code",
        "colab": {}
      },
      "source": [
        "f = open('test.txt', 'w')\n",
        "print(\"Deneme0\", file=f, flush=True)"
      ],
      "execution_count": 0,
      "outputs": []
    },
    {
      "cell_type": "code",
      "metadata": {
        "id": "uNR6hGxDJks3",
        "colab_type": "code",
        "colab": {}
      },
      "source": [
        "print(\"Deneme1\", file=f, flush=True)\n",
        "print(\"Deneme2\", file=f, flush=True)\n",
        "f.write('Deneme3 f.write() kullanarak')"
      ],
      "execution_count": 0,
      "outputs": []
    },
    {
      "cell_type": "code",
      "metadata": {
        "id": "75k8V0ERJks4",
        "colab_type": "code",
        "colab": {}
      },
      "source": [
        "f.close()"
      ],
      "execution_count": 0,
      "outputs": []
    },
    {
      "cell_type": "code",
      "metadata": {
        "id": "c48LOC3LJks5",
        "colab_type": "code",
        "colab": {}
      },
      "source": [
        "f = open('test.txt', 'r')\n",
        "print(f.read())"
      ],
      "execution_count": 0,
      "outputs": []
    },
    {
      "cell_type": "code",
      "metadata": {
        "id": "0Bo2io9aJks6",
        "colab_type": "code",
        "colab": {}
      },
      "source": [
        "f.seek(0)\n",
        "print(f.read())"
      ],
      "execution_count": 0,
      "outputs": []
    },
    {
      "cell_type": "code",
      "metadata": {
        "id": "gcz3wDZ9Jks7",
        "colab_type": "code",
        "colab": {}
      },
      "source": [
        "f.seek(0)\n",
        "print(f.readline())\n",
        "\n",
        "f.seek(0)\n",
        "print(f.readlines())\n",
        "\n",
        "f.close()"
      ],
      "execution_count": 0,
      "outputs": []
    },
    {
      "cell_type": "code",
      "metadata": {
        "id": "qDy-qComJks8",
        "colab_type": "code",
        "colab": {}
      },
      "source": [
        "with open('test.txt', 'r+') as f:\n",
        "    print(f.read())\n",
        "    f.write('Denem e 4 with open() kullanarak')"
      ],
      "execution_count": 0,
      "outputs": []
    },
    {
      "cell_type": "markdown",
      "metadata": {
        "id": "XTtGXdC8Jks9",
        "colab_type": "text"
      },
      "source": [
        "___\n",
        "## Döngüler ( Loops )"
      ]
    },
    {
      "cell_type": "code",
      "metadata": {
        "id": "zSxVMO7dJks9",
        "colab_type": "code",
        "colab": {}
      },
      "source": [
        "a = 5\n",
        "\n",
        "while a < 10:\n",
        "    print(a)\n",
        "    a += 1"
      ],
      "execution_count": 0,
      "outputs": []
    },
    {
      "cell_type": "code",
      "metadata": {
        "id": "GETqbjwpJks-",
        "colab_type": "code",
        "colab": {}
      },
      "source": [
        "isim = \"Oğuz ATAY\"\n",
        "for harf in isim:\n",
        "    print(harf)"
      ],
      "execution_count": 0,
      "outputs": []
    },
    {
      "cell_type": "markdown",
      "metadata": {
        "id": "DSTZe9HZJks_",
        "colab_type": "text"
      },
      "source": [
        "___\n",
        "#### range, break, continue, pass statements\n",
        "___"
      ]
    },
    {
      "cell_type": "code",
      "metadata": {
        "id": "9VaEuTCTJks_",
        "colab_type": "code",
        "colab": {}
      },
      "source": [
        "for i in range(2, 10, 2):\n",
        "    print(i, end=\" \")"
      ],
      "execution_count": 0,
      "outputs": []
    },
    {
      "cell_type": "code",
      "metadata": {
        "id": "0siOxWwaJktB",
        "colab_type": "code",
        "colab": {}
      },
      "source": [
        "for i in range(10):\n",
        "    print(i, end=\" \")\n",
        "    if i == 5:\n",
        "        break"
      ],
      "execution_count": 0,
      "outputs": []
    },
    {
      "cell_type": "code",
      "metadata": {
        "id": "M0V6IR9pJktE",
        "colab_type": "code",
        "colab": {}
      },
      "source": [
        "for i in range(10):\n",
        "    if i == 5:\n",
        "        continue\n",
        "    print(i, end=\" \")"
      ],
      "execution_count": 0,
      "outputs": []
    },
    {
      "cell_type": "code",
      "metadata": {
        "id": "g0v7IX64JktG",
        "colab_type": "code",
        "colab": {}
      },
      "source": [
        "for i in range(10):\n",
        "    if i == 5:\n",
        "        pass\n",
        "    print(i, end=\" \")"
      ],
      "execution_count": 0,
      "outputs": []
    },
    {
      "cell_type": "code",
      "metadata": {
        "id": "ZDm4QzVxJktH",
        "colab_type": "code",
        "colab": {}
      },
      "source": [
        "gerçek_kullanıcı = \"test\"\n",
        "gerçek_şifre = \"test\"\n",
        "\n",
        "while True:\n",
        "    sorulan_kullanıcı = input(\"Kullanıcı adınız:\")\n",
        "    sorulan_şifre = input(\"Şifreniz:\")\n",
        "    \n",
        "    if gerçek_şifre == sorulan_şifre and gerçek_kullanıcı == sorulan_kullanıcı:\n",
        "        print(\"Giriş başarılı!\")\n",
        "        break\n",
        "    elif not bool(sorulan_kullanıcı):\n",
        "        print(\"Kullanıcı adı alanı boş olamaz!\")\n",
        "    elif not bool(sorulan_şifre):\n",
        "        print(\"Şifre alanı boş olamaz!\")\n",
        "    else:\n",
        "        print(\"Kullanıcı adı veya şifre yanlış!\")\n",
        "    \n",
        "    print(\"*\"*30)"
      ],
      "execution_count": 0,
      "outputs": []
    },
    {
      "cell_type": "markdown",
      "metadata": {
        "id": "ybZhmq0MJktI",
        "colab_type": "text"
      },
      "source": [
        "___\n",
        "## Hata Yakalama Try/Except/Finally ( Exception Handling )"
      ]
    },
    {
      "cell_type": "markdown",
      "metadata": {
        "id": "73JXTr5QJktI",
        "colab_type": "text"
      },
      "source": [
        "|Error Name| Description|\n",
        "| --------------------------------------|:----------------------:|\n",
        "|AssertionError|Raised when the assert statement fails.|\n",
        "|AttributeError|Raised on the attribute assignment or reference fails.|\n",
        "|EOFError|Raised when the input() function hits the end-of-file condition.|\n",
        "|FloatingPointError|Raised when a floating point operation fails.|\n",
        "|GeneratorExit|Raised when a generator's close() method is called.|\n",
        "|ImportError|Raised when the imported module is not found.|\n",
        "|IndexError|Raised when the index of a sequence is out of range.|\n",
        "|KeyError|Raised when a key is not found in a dictionary.|\n",
        "|KeyboardInterrupt|Raised when the user hits the interrupt key (Ctrl+c or delete).|\n",
        "|MemoryError|Raised when an operation runs out of memory.|\n",
        "|NameError|Raised when a variable is not found in the local or global scope.|\n",
        "|NotImplementedError|Raised by abstract methods.|\n",
        "|OSError|Raised when a system operation causes a system-related error.|\n",
        "|OverflowError|Raised when the result of an arithmetic operation is too large to be represented.|\n",
        "|ReferenceError|Raised when a weak reference proxy is used to access a garbage collected referent.|\n",
        "|RuntimeError|Raised when an error does not fall under any other category.|\n",
        "|StopIteration|Raised by the next() function to indicate that there is no further item to be returned by the iterator.|\n",
        "|SyntaxError|Raised by the parser when a syntax error is encountered.|\n",
        "|IndentationError|Raised when there is an incorrect indentation.|\n",
        "|TabError|Raised when the indentation consists of inconsistent tabs and spaces.|\n",
        "|SystemError|Raised when the interpreter detects internal error.|\n",
        "|SystemExit|Raised by the sys.exit() function.|\n",
        "|TypeError|Raised when a function or operation is applied to an object of an incorrect type.|\n",
        "|UnboundLocalError|Raised when a reference is made to a local variable in a function or method, but no value has been bound to that variable.|\n",
        "|UnicodeError|Raised when a Unicode-related encoding or decoding error occurs.|\n",
        "|UnicodeEncodeError|Raised when a Unicode-related error occurs during encoding.|\n",
        "|UnicodeDecodeError|Raised when a Unicode-related error occurs during decoding.|\n",
        "|UnicodeTranslateError|Raised when a Unicode-related error occurs during translation.|\n",
        "|ValueError|Raised when a function gets an argument of correct type but improper value.|\n",
        "|ZeroDivisionError|Raised when the second operand of a division or module operation is zero.|"
      ]
    },
    {
      "cell_type": "code",
      "metadata": {
        "id": "p0ldUImfJktJ",
        "colab_type": "code",
        "colab": {}
      },
      "source": [
        "try:\n",
        "    sayı1 = int(input(\"Bölünecek sayıyı giriniz:\"))\n",
        "    sayı2 = int(input(\"Bölecek sayıyı giriniz:\"))\n",
        "    sonuc = sayı1 / sayı2\n",
        "    print(sonuc)\n",
        "except ZeroDivisionError:\n",
        "    print(\"Herhangi bir sayı sıfıra bölünemez!\")"
      ],
      "execution_count": 0,
      "outputs": []
    },
    {
      "cell_type": "code",
      "metadata": {
        "id": "_29AMcL4JktK",
        "colab_type": "code",
        "colab": {}
      },
      "source": [
        "yaş = int(input(\"Yaşınızı girin:\"))\n",
        "if not (yaş >= 0):\n",
        "    raise Exception(\"Yaşınız negatif bir sayı olamaz!\")"
      ],
      "execution_count": 0,
      "outputs": []
    },
    {
      "cell_type": "code",
      "metadata": {
        "id": "Pg6qcDxUJktL",
        "colab_type": "code",
        "colab": {}
      },
      "source": [
        "parola = input(\"Parolanız:\")\n",
        "assert len(parola) != 0 and len(parola) > 6, \"Şifreniz 6 karakterden kısa olamaz!\""
      ],
      "execution_count": 0,
      "outputs": []
    },
    {
      "cell_type": "markdown",
      "metadata": {
        "id": "R2cdGsXhJktM",
        "colab_type": "text"
      },
      "source": [
        "## Listeler ve Demetler ( Lists and Tuples )"
      ]
    },
    {
      "cell_type": "code",
      "metadata": {
        "id": "0c-YarJsJktM",
        "colab_type": "code",
        "colab": {}
      },
      "source": [
        "liste1 = []\n",
        "liste1 = list()\n",
        "print(liste1, len(liste1))\n",
        "\n",
        "liste1.append(10)\n",
        "print(liste1, len(liste1))\n",
        "\n",
        "liste1.append(20)\n",
        "liste1.append(30)\n",
        "liste1.append(40)\n",
        "print(liste1, len(liste1))"
      ],
      "execution_count": 0,
      "outputs": []
    },
    {
      "cell_type": "code",
      "metadata": {
        "id": "85ZD6NSGJktN",
        "colab_type": "code",
        "colab": {}
      },
      "source": [
        "print(liste1[0])\n",
        "print(liste1[2])\n",
        "print(liste1[-1])"
      ],
      "execution_count": 0,
      "outputs": []
    },
    {
      "cell_type": "code",
      "metadata": {
        "id": "GV9zQUhzJktO",
        "colab_type": "code",
        "colab": {}
      },
      "source": [
        "liste1.insert(0, 99)\n",
        "print(liste1)"
      ],
      "execution_count": 0,
      "outputs": []
    },
    {
      "cell_type": "code",
      "metadata": {
        "id": "iswTCZO_JktP",
        "colab_type": "code",
        "colab": {}
      },
      "source": [
        "liste1.pop()\n",
        "print(liste1)"
      ],
      "execution_count": 0,
      "outputs": []
    },
    {
      "cell_type": "code",
      "metadata": {
        "id": "qmDW_vdVJktR",
        "colab_type": "code",
        "colab": {}
      },
      "source": [
        "silinen = liste1.pop(0)\n",
        "print(liste1, silinen)"
      ],
      "execution_count": 0,
      "outputs": []
    },
    {
      "cell_type": "code",
      "metadata": {
        "id": "Blji52wAJktR",
        "colab_type": "code",
        "colab": {}
      },
      "source": [
        "liste1.remove(30)\n",
        "print(liste1)"
      ],
      "execution_count": 0,
      "outputs": []
    },
    {
      "cell_type": "code",
      "metadata": {
        "id": "nFIyZkc6JktS",
        "colab_type": "code",
        "colab": {}
      },
      "source": [
        "liste1 = [2, 0, 1, 7]\n",
        "liste2 = [4, 3, 2, 8]\n",
        "print(liste1, liste2)\n",
        "\n",
        "liste1.extend(liste2)\n",
        "print(liste1)"
      ],
      "execution_count": 0,
      "outputs": []
    },
    {
      "cell_type": "code",
      "metadata": {
        "id": "mtY-opU2JktT",
        "colab_type": "code",
        "colab": {}
      },
      "source": [
        "sorted(liste1)\n",
        "print(liste1)"
      ],
      "execution_count": 0,
      "outputs": []
    },
    {
      "cell_type": "code",
      "metadata": {
        "id": "3IpD2iKYJktU",
        "colab_type": "code",
        "colab": {}
      },
      "source": [
        "sıralanmış_liste = sorted(liste1)\n",
        "print(sıralanmış_liste)"
      ],
      "execution_count": 0,
      "outputs": []
    },
    {
      "cell_type": "code",
      "metadata": {
        "id": "iWKGSMNrJktX",
        "colab_type": "code",
        "colab": {}
      },
      "source": [
        "liste1.sort()\n",
        "print(liste1)"
      ],
      "execution_count": 0,
      "outputs": []
    },
    {
      "cell_type": "code",
      "metadata": {
        "id": "ZiU2q5dkJktY",
        "colab_type": "code",
        "colab": {}
      },
      "source": [
        "liste1 = [\"Elma\", \"Armut\", \"Tilki\", \"Kuş\", \"Armut\", \"Çiçek\"]\n",
        "index = liste1.index(input(\"Aranacak kelime:\"))\n",
        "print(index)"
      ],
      "execution_count": 0,
      "outputs": []
    },
    {
      "cell_type": "code",
      "metadata": {
        "id": "7NIlPY-fJktZ",
        "colab_type": "code",
        "colab": {}
      },
      "source": [
        "liste1 = [\"Elma\", \"Armut\", \"Tilki\", \"Kuş\", \"Armut\", \"Çiçek\"]\n",
        "sayaç = liste1.count(input(\"Sayısını bulunacak kelime:\"))\n",
        "print(sayaç)"
      ],
      "execution_count": 0,
      "outputs": []
    },
    {
      "cell_type": "code",
      "metadata": {
        "id": "P73rgRh5Jkta",
        "colab_type": "code",
        "colab": {}
      },
      "source": [
        "yeni_liste = liste1\n",
        "print(yeni_liste)"
      ],
      "execution_count": 0,
      "outputs": []
    },
    {
      "cell_type": "code",
      "metadata": {
        "id": "G3pXgkgfJktb",
        "colab_type": "code",
        "colab": {}
      },
      "source": [
        "yeni_liste[0] = \"Muz\"\n",
        "print(yeni_liste)\n",
        "print(liste1)\n",
        "\n",
        "print(id(yeni_liste))\n",
        "print(id(liste1))"
      ],
      "execution_count": 0,
      "outputs": []
    },
    {
      "cell_type": "code",
      "metadata": {
        "id": "OfbK-RcJJktc",
        "colab_type": "code",
        "colab": {}
      },
      "source": [
        "liste1 = [\"Elma\", \"Armut\", \"Tilki\", \"Kuş\", \"Armut\", \"Çiçek\"]\n",
        "yeni_liste = liste1.copy()"
      ],
      "execution_count": 0,
      "outputs": []
    },
    {
      "cell_type": "code",
      "metadata": {
        "id": "82GNZr_pJktd",
        "colab_type": "code",
        "colab": {}
      },
      "source": [
        "yeni_liste[0] = \"Muz\"\n",
        "print(yeni_liste)\n",
        "print(liste1)\n",
        "\n",
        "print(id(yeni_liste))\n",
        "print(id(liste1))"
      ],
      "execution_count": 0,
      "outputs": []
    },
    {
      "cell_type": "code",
      "metadata": {
        "id": "Gwn-FJsGJkte",
        "colab_type": "code",
        "colab": {}
      },
      "source": [
        "liste3 = [\"John\", 1, \"Doe\", 2.56, \"Oğuz\", (55+5j), \"ATAY\", ]"
      ],
      "execution_count": 0,
      "outputs": []
    },
    {
      "cell_type": "code",
      "metadata": {
        "id": "llU04U0DJktf",
        "colab_type": "code",
        "colab": {}
      },
      "source": [
        "for i in liste3:\n",
        "    print(i, type(i))"
      ],
      "execution_count": 0,
      "outputs": []
    },
    {
      "cell_type": "code",
      "metadata": {
        "id": "LPNLqjqJJktg",
        "colab_type": "code",
        "colab": {}
      },
      "source": [
        "matrix = [\n",
        "    [1, 2, 3, 4],\n",
        "    [9, 8, 7, 6],\n",
        "    [0, 6, 5, 2]\n",
        "]\n",
        "\n",
        "for satır in matrix:\n",
        "    for sütun in satır:\n",
        "        print(sütun, end=\" \")\n",
        "    print()"
      ],
      "execution_count": 0,
      "outputs": []
    },
    {
      "cell_type": "code",
      "metadata": {
        "id": "5DymGnTAJkth",
        "colab_type": "code",
        "colab": {}
      },
      "source": [
        "demet = ()\n",
        "demet = tuple()\n",
        "demet = (10, 20, 25, 30, 35, 40, 35)\n",
        "\n",
        "index = demet.index(25)\n",
        "print(index)\n",
        "\n",
        "sayaç = demet.count(20)\n",
        "print(sayaç)"
      ],
      "execution_count": 0,
      "outputs": []
    },
    {
      "cell_type": "markdown",
      "metadata": {
        "id": "sip1s0KPJkth",
        "colab_type": "text"
      },
      "source": [
        "### Matematiksel Fonksiyonlar ( Mathematical Functions ) "
      ]
    },
    {
      "cell_type": "code",
      "metadata": {
        "id": "lAbjCA7PJkti",
        "colab_type": "code",
        "colab": {}
      },
      "source": [
        "abs_number = abs(-10)\n",
        "print(abs_number)\n",
        "\n",
        "divmod_number = divmod(20, 7)\n",
        "print(divmod_number)\n",
        "# 20 // 7, 20 % 7"
      ],
      "execution_count": 0,
      "outputs": []
    },
    {
      "cell_type": "code",
      "metadata": {
        "id": "kFV9DgO5Jktk",
        "colab_type": "code",
        "colab": {}
      },
      "source": [
        "from random import randint\n",
        "\n",
        "sayı_listesi = []\n",
        "for i in range(15):\n",
        "    sayı = randint(-10, 10)\n",
        "    sayı_listesi.append(sayı)\n",
        "\n",
        "print(sayı_listesi)"
      ],
      "execution_count": 0,
      "outputs": []
    },
    {
      "cell_type": "code",
      "metadata": {
        "id": "-GV1Uph2Jktl",
        "colab_type": "code",
        "colab": {}
      },
      "source": [
        "string = \"{} fonksiyonunun çıktısı => {}\"\n",
        "print(\"Liste: {}\".format(sayı_listesi))\n",
        "print(string.format(\"max()\", max(sayı_listesi)))\n",
        "print(string.format(\"min()\", min(sayı_listesi)))\n",
        "print(string.format(\"sum()\", sum(sayı_listesi)))"
      ],
      "execution_count": 0,
      "outputs": []
    },
    {
      "cell_type": "markdown",
      "metadata": {
        "id": "9whjWWUdJktn",
        "colab_type": "text"
      },
      "source": [
        "## Sözlükler ( Dictionaries )"
      ]
    },
    {
      "cell_type": "code",
      "metadata": {
        "id": "X6fvhH0_Jktn",
        "colab_type": "code",
        "colab": {}
      },
      "source": [
        "sozluk = {}\n",
        "sozluk = dict()\n",
        "\n",
        "sozluk['Elma'] = 'Apple'\n",
        "sozluk['Armut'] = 'Pear'\n",
        "sozluk['Tilki'] = 'Fox'\n",
        "\n",
        "print(sozluk)"
      ],
      "execution_count": 0,
      "outputs": []
    },
    {
      "cell_type": "code",
      "metadata": {
        "id": "YxJd-yx4Jktp",
        "colab_type": "code",
        "colab": {}
      },
      "source": [
        "sozluk_keys = sozluk.keys()\n",
        "print(sozluk_keys)\n",
        "\n",
        "sozluk_values = sozluk.values()\n",
        "print(sozluk_values)"
      ],
      "execution_count": 0,
      "outputs": []
    },
    {
      "cell_type": "code",
      "metadata": {
        "id": "eLn08kZQJktq",
        "colab_type": "code",
        "colab": {}
      },
      "source": [
        "\"\"\"\n",
        "for key in sozluk.keys():\n",
        "    pass\n",
        "    \n",
        "for value in sozluk.values():\n",
        "    pass\n",
        "\"\"\"\n",
        "\n",
        "for key, value in sozluk.items():\n",
        "    print(key, value)"
      ],
      "execution_count": 0,
      "outputs": []
    },
    {
      "cell_type": "code",
      "metadata": {
        "id": "lXG5JnSTJktr",
        "colab_type": "code",
        "colab": {}
      },
      "source": [
        "print(sozluk['Armut'])\n",
        "print(sozluk['Üzüm'])"
      ],
      "execution_count": 0,
      "outputs": []
    },
    {
      "cell_type": "code",
      "metadata": {
        "id": "zuETRKKKJktr",
        "colab_type": "code",
        "colab": {}
      },
      "source": [
        "print(sozluk.get('Üzüm'))"
      ],
      "execution_count": 0,
      "outputs": []
    },
    {
      "cell_type": "markdown",
      "metadata": {
        "id": "nRUAfOcZJkts",
        "colab_type": "text"
      },
      "source": [
        "![image.png](attachment:image.png)"
      ]
    },
    {
      "cell_type": "code",
      "metadata": {
        "id": "vq5Nm1vMJktt",
        "colab_type": "code",
        "colab": {}
      },
      "source": [
        "sozluk.setdefault('Elma', 'Malus')"
      ],
      "execution_count": 0,
      "outputs": []
    },
    {
      "cell_type": "code",
      "metadata": {
        "id": "pRETlCp_Jktt",
        "colab_type": "code",
        "colab": {}
      },
      "source": [
        "sozluk.setdefault('Üzüm', 'Grape')"
      ],
      "execution_count": 0,
      "outputs": []
    },
    {
      "cell_type": "code",
      "metadata": {
        "id": "nqwmDQZuJktv",
        "colab_type": "code",
        "colab": {}
      },
      "source": [
        "sozluk.pop()"
      ],
      "execution_count": 0,
      "outputs": []
    },
    {
      "cell_type": "markdown",
      "metadata": {
        "id": "vcwht9vhJktw",
        "colab_type": "text"
      },
      "source": [
        "## Kümeler ve Dondurulmuş Kümeler ( Sets and Frozensets )"
      ]
    },
    {
      "cell_type": "code",
      "metadata": {
        "id": "ADdrGsvcJktw",
        "colab_type": "code",
        "colab": {}
      },
      "source": [
        "küme = set()\n",
        "küme.add(1)\n",
        "küme.add(2)\n",
        "küme.add(3)\n",
        "küme.add(3)\n",
        "küme.add(3)\n",
        "küme.add(2)\n",
        "\n",
        "print(küme)"
      ],
      "execution_count": 0,
      "outputs": []
    },
    {
      "cell_type": "code",
      "metadata": {
        "id": "g0IqVQc0Jktx",
        "colab_type": "code",
        "colab": {}
      },
      "source": [
        "liste = [10, 12, 1, 0, 2, 3, 4, 4, 2, 3, 0, 2, 1, 5]\n",
        "küme = set(liste)\n",
        "\n",
        "print(küme)"
      ],
      "execution_count": 0,
      "outputs": []
    },
    {
      "cell_type": "code",
      "metadata": {
        "id": "BG4yCaSjJkty",
        "colab_type": "code",
        "colab": {}
      },
      "source": [
        "küme.remove(10)\n",
        "print(küme)"
      ],
      "execution_count": 0,
      "outputs": []
    },
    {
      "cell_type": "code",
      "metadata": {
        "id": "mEKKQxVdJktz",
        "colab_type": "code",
        "colab": {}
      },
      "source": [
        "liste1 = [10, 100, 50, 30]\n",
        "liste2 = [20, 50, 90, 30]\n",
        "\n",
        "küme1 = set(liste1)\n",
        "küme2 = set(liste2)\n",
        "\n",
        "print(\"Kesişim kümesi: \", küme1.intersection(küme2))\n",
        "print(\"Birleşim kümesi: \", küme1.union(küme2))\n",
        "print(\"Küme1: \", küme1)"
      ],
      "execution_count": 0,
      "outputs": []
    },
    {
      "cell_type": "markdown",
      "metadata": {
        "id": "K8mNVP1ZJkt0",
        "colab_type": "text"
      },
      "source": [
        "## Üç büyükler"
      ]
    },
    {
      "cell_type": "code",
      "metadata": {
        "id": "gl-dAUtPJkt0",
        "colab_type": "code",
        "colab": {}
      },
      "source": [
        "help(str)"
      ],
      "execution_count": 0,
      "outputs": []
    },
    {
      "cell_type": "code",
      "metadata": {
        "id": "jD6ExYi1Jkt1",
        "colab_type": "code",
        "colab": {}
      },
      "source": [
        "liste = sorted([\"Ayşe\", \"Ahmet\",\"Mehmet\", \"Nuri\", \"Fatma\", \"Binnur\"])\n",
        "print(*enumerate(liste))"
      ],
      "execution_count": 0,
      "outputs": []
    },
    {
      "cell_type": "code",
      "metadata": {
        "id": "gAvms22GJkt3",
        "colab_type": "code",
        "colab": {}
      },
      "source": [
        "for no, isim in enumerate(liste, -5):\n",
        "    print(no, isim)"
      ],
      "execution_count": 0,
      "outputs": []
    },
    {
      "cell_type": "code",
      "metadata": {
        "id": "PUxB59PtJkt4",
        "colab_type": "code",
        "colab": {}
      },
      "source": [
        "dir(str)"
      ],
      "execution_count": 0,
      "outputs": []
    },
    {
      "cell_type": "markdown",
      "metadata": {
        "id": "9xfzMHebJkt4",
        "colab_type": "text"
      },
      "source": [
        "## Karakter Dizilerinin Methotları ( String Methods )"
      ]
    },
    {
      "cell_type": "code",
      "metadata": {
        "id": "RbUcubFiJkt5",
        "colab_type": "code",
        "colab": {}
      },
      "source": [
        "string = 'hikmet özben'"
      ],
      "execution_count": 0,
      "outputs": []
    },
    {
      "cell_type": "code",
      "metadata": {
        "id": "11EJ2W5xJkt6",
        "colab_type": "code",
        "colab": {}
      },
      "source": [
        "print(string[0])"
      ],
      "execution_count": 0,
      "outputs": []
    },
    {
      "cell_type": "code",
      "metadata": {
        "id": "QHzrJbz-Jkt7",
        "colab_type": "code",
        "colab": {}
      },
      "source": [
        "print(string[0:4])\n",
        "print(string[0:len(string)])\n",
        "print(string[0:len(string):2])"
      ],
      "execution_count": 0,
      "outputs": []
    },
    {
      "cell_type": "code",
      "metadata": {
        "id": "vnx6DSVpJkt-",
        "colab_type": "code",
        "colab": {}
      },
      "source": [
        ""
      ],
      "execution_count": 0,
      "outputs": []
    },
    {
      "cell_type": "code",
      "metadata": {
        "id": "blONGE1PJkt_",
        "colab_type": "code",
        "colab": {}
      },
      "source": [
        "print(string.lower())\n",
        "print(string.upper())"
      ],
      "execution_count": 0,
      "outputs": []
    },
    {
      "cell_type": "code",
      "metadata": {
        "id": "5W0OEZHhJkuA",
        "colab_type": "code",
        "colab": {}
      },
      "source": [
        "string = string.replace('özben', 'benol')\n",
        "print(string)\n",
        "\n",
        "string = string.replace('hikmet', 'turgut')\n",
        "print(string)"
      ],
      "execution_count": 0,
      "outputs": []
    },
    {
      "cell_type": "code",
      "metadata": {
        "id": "7e5Q7Q-pJkuB",
        "colab_type": "code",
        "colab": {}
      },
      "source": [
        "print(string.islower())\n",
        "print(string.isupper())"
      ],
      "execution_count": 0,
      "outputs": []
    },
    {
      "cell_type": "code",
      "metadata": {
        "id": "R5eCZqgcJkuD",
        "colab_type": "code",
        "colab": {}
      },
      "source": [
        "print(string.startswith('hikmet'))\n",
        "print(string.endswith('ol'))"
      ],
      "execution_count": 0,
      "outputs": []
    },
    {
      "cell_type": "code",
      "metadata": {
        "id": "xgXTiG3nJkuE",
        "colab_type": "code",
        "colab": {}
      },
      "source": [
        "string.split()"
      ],
      "execution_count": 0,
      "outputs": []
    },
    {
      "cell_type": "code",
      "metadata": {
        "id": "vkHYejIQJkuG",
        "colab_type": "code",
        "colab": {}
      },
      "source": [
        "string = string.split()\n",
        "string = \"cum \".join(string)\n",
        "print(string)"
      ],
      "execution_count": 0,
      "outputs": []
    },
    {
      "cell_type": "code",
      "metadata": {
        "id": "uKzCcZ03JkuH",
        "colab_type": "code",
        "colab": {}
      },
      "source": [
        "gezegenler = \"Merkür Venüs Dünya Mars Jüpiter Satürn Uranüs Neptün\"\n",
        "gezegenler = gezegenler.split(\" \")\n",
        "print(gezegenler)\n",
        "sıralanmış_gezegenler = \" - \".join(sorted(gezegenler, reverse=True))\n",
        "print(sıralanmış_gezegenler)"
      ],
      "execution_count": 0,
      "outputs": []
    },
    {
      "cell_type": "code",
      "metadata": {
        "id": "LTBL28HTJkuI",
        "colab_type": "code",
        "colab": {}
      },
      "source": [
        "gezegenler = \"     Merkür Venüs Dünya Mars Jüpiter Satürn Uranüs Neptün       \"\n",
        "gezegenler.strip()"
      ],
      "execution_count": 0,
      "outputs": []
    },
    {
      "cell_type": "code",
      "metadata": {
        "id": "PJqqFF7OJkuJ",
        "colab_type": "code",
        "colab": {}
      },
      "source": [
        "gezegenler = \"     Merkür Venüs Dünya Mars Jüpiter Satürn Uranüs Neptün       \"\n",
        "gezegenler.lstrip()"
      ],
      "execution_count": 0,
      "outputs": []
    },
    {
      "cell_type": "markdown",
      "metadata": {
        "id": "V0B2QkdWJkuK",
        "colab_type": "text"
      },
      "source": [
        "## Fonksiyonlar ( Functions )"
      ]
    },
    {
      "cell_type": "code",
      "metadata": {
        "id": "msp6-4AjJkuK",
        "colab_type": "code",
        "colab": {}
      },
      "source": [
        "def not_hesaplama(ad, puanlar):\n",
        "    ortalama = 0\n",
        "    for puan in puanlar:\n",
        "        ortalama += puan\n",
        "    ortalama /= len(puanlar)\n",
        "    \n",
        "    if ortalama > 90:\n",
        "        harf = 'A'\n",
        "    elif ortalama > 80:\n",
        "        harf = 'B'\n",
        "    elif ortalama > 60:\n",
        "        harf = 'C'\n",
        "    elif ortalama > 50:\n",
        "        harf = 'D'\n",
        "    else:\n",
        "        harf = 'F'\n",
        "    \n",
        "    print(f'İsim: {ad}\\nOrtalama: {ortalama:.2f}\\nHarf notu: {harf}\\n', end=\"-\"*20)\n",
        "\n",
        "not_hesaplama('Ahmet DENİZ', (60, 100, 75))"
      ],
      "execution_count": 0,
      "outputs": []
    },
    {
      "cell_type": "code",
      "metadata": {
        "id": "0S3WZf4kJkuL",
        "colab_type": "code",
        "colab": {}
      },
      "source": [
        "def carp(a=10, b=10):\n",
        "    sonuc = a * b\n",
        "    return sonuc\n",
        "\n",
        "sonuc = carp()\n",
        "print(sonuc)\n",
        "\n",
        "print(carp(b=32, a=2))"
      ],
      "execution_count": 0,
      "outputs": []
    },
    {
      "cell_type": "code",
      "metadata": {
        "id": "rm_MZltYJkuM",
        "colab_type": "code",
        "colab": {}
      },
      "source": [
        "def carp(*args):\n",
        "    sonuc = 1\n",
        "    for sayı in args:\n",
        "        sonuc *= sayı\n",
        "    return sonuc\n",
        "\n",
        "sonuc = carp(1, 2, 20, 4)\n",
        "print(sonuc)\n",
        "\n",
        "print(carp(*range(1, 10)))"
      ],
      "execution_count": 0,
      "outputs": []
    },
    {
      "cell_type": "code",
      "metadata": {
        "id": "EiSy_fQzJkuO",
        "colab_type": "code",
        "colab": {}
      },
      "source": [
        "def siralama_yap(*args, **kwargs):\n",
        "    for no, key in enumerate(kwargs):\n",
        "        value = kwargs[key]\n",
        "        print(f'No: {no:<10}Key: {key:^20}Value: {value:>10}')\n",
        "    \n",
        "insanlar = {\n",
        "    'Ahmet': 'DENİZ', \n",
        "    'Yaşar': 'KEMAL',\n",
        "    'Ali': 'TEOMAN',\n",
        "    'Guido Van': 'ROSSUM'\n",
        "}\n",
        "siralama_yap(**insanlar)\n",
        "        "
      ],
      "execution_count": 0,
      "outputs": []
    },
    {
      "cell_type": "code",
      "metadata": {
        "id": "Il7Fjz8jJkuQ",
        "colab_type": "code",
        "colab": {}
      },
      "source": [
        "a = 5\n",
        "def a_degistirme():\n",
        "    a = 10\n",
        "    print(a)\n",
        "a_degistirme()\n",
        "print(a)"
      ],
      "execution_count": 0,
      "outputs": []
    },
    {
      "cell_type": "code",
      "metadata": {
        "id": "Ea_sU_BGJkuR",
        "colab_type": "code",
        "colab": {}
      },
      "source": [
        "a = 5\n",
        "def a_degistirme():\n",
        "    global a\n",
        "    a = 10\n",
        "    print(a)\n",
        "a_degistirme()\n",
        "print(a)"
      ],
      "execution_count": 0,
      "outputs": []
    },
    {
      "cell_type": "markdown",
      "metadata": {
        "id": "rGfUR7zJJkuS",
        "colab_type": "text"
      },
      "source": [
        "## Nesne Yönelimli Programlama GİRİŞ ( Beginning OOP )"
      ]
    },
    {
      "cell_type": "code",
      "metadata": {
        "id": "dx6d34ekJkuS",
        "colab_type": "code",
        "colab": {}
      },
      "source": [
        "class Araba:\n",
        "    def sür(self):\n",
        "        print('Araba gidiyor..')\n",
        "    \n",
        "    def dur(self):\n",
        "        print('Araba duruyor..')\n",
        "        \n",
        "\n",
        "araba = Araba()\n",
        "araba.sür()\n",
        "araba.dur()\n",
        "araba.sür()"
      ],
      "execution_count": 0,
      "outputs": []
    },
    {
      "cell_type": "code",
      "metadata": {
        "id": "oo_b3X7UJkuT",
        "colab_type": "code",
        "colab": {}
      },
      "source": [
        "class Araba:\n",
        "    \"\"\"\n",
        "    Python dersi için tanımladığımız araba sınıfımız.\n",
        "    -------------------------------------------------\n",
        "    Sınıf içerisinde arabanın yapmasını istediğimiz \n",
        "    ve yapabileceği fonksiyonları barındırıyor.\n",
        "    \"\"\"\n",
        "    def __init__(self, marka, model, yıl, renk):\n",
        "        \"\"\"\n",
        "        Bir nesne oluştururken aşağıdaki parametreleri\n",
        "        vermeyi unutmayın!\n",
        "        => Marka, Model, Yıl ve Renk\n",
        "        \"\"\"\n",
        "        self.marka = marka\n",
        "        self.model = model\n",
        "        self.yıl = yıl\n",
        "        self.renk = renk\n",
        "        self.durum = 0\n",
        "        \"\"\"\n",
        "        0: Kapalı\n",
        "        1: Çalışır halde duruyor\n",
        "        2: Gidiyor\n",
        "        \"\"\"\n",
        "        \n",
        "    def çalıştır(self):\n",
        "        self.durum = 1 if not self.durum else 1\n",
        "    \n",
        "    def durdur(self):\n",
        "        self.durum = 0 if self.durum else 1\n",
        "        \n",
        "    def sür(self):\n",
        "        if self.durum:\n",
        "            print('{} gidiyor'.format(self.model))\n",
        "            self.durum = 2\n",
        "        else:\n",
        "            print('Önce arabayı çalıştır')\n",
        "    \n",
        "    def dur(self):\n",
        "        if self.durum:\n",
        "            print('{} duruyor'.format(self.model))\n",
        "            self.durum = 1\n",
        "        else:\n",
        "            print('Önce arabayı çalıştır')\n",
        "            \n",
        "    def özellikleri_yazdır(self):\n",
        "        print(f\"Marka: {self.marka:<10}\\\n",
        "        Model: {self.model:<10}\\\n",
        "        Yıl: {self.yıl:<10}\\\n",
        "        Renk: {self.renk:<10}\")"
      ],
      "execution_count": 0,
      "outputs": []
    },
    {
      "cell_type": "code",
      "metadata": {
        "id": "fNQfyFq2JkuU",
        "colab_type": "code",
        "colab": {}
      },
      "source": [
        "help(Araba)\n",
        "\n",
        "araba1 = Araba('Dodge', 'Challenger', '2016', 'Siyah')\n",
        "araba1.sür()\n",
        "araba1.çalıştır()\n",
        "araba1.sür()\n",
        "araba1.özellikleri_yazdır()\n",
        "araba1.dur()"
      ],
      "execution_count": 0,
      "outputs": []
    },
    {
      "cell_type": "code",
      "metadata": {
        "id": "iXoLgEdTJkuV",
        "colab_type": "code",
        "colab": {}
      },
      "source": [
        "araba2 = Araba('Ford', 'Mustang', '1971', 'Sarı-Siyah')\n",
        "araba2.sür()\n",
        "araba2.çalıştır()\n",
        "araba2.sür()\n",
        "araba2.özellikleri_yazdır()\n",
        "araba2.dur()"
      ],
      "execution_count": 0,
      "outputs": []
    },
    {
      "cell_type": "code",
      "metadata": {
        "id": "VeA3fllZJkuW",
        "colab_type": "code",
        "colab": {}
      },
      "source": [
        ""
      ],
      "execution_count": 0,
      "outputs": []
    },
    {
      "cell_type": "code",
      "metadata": {
        "id": "GC4xL7T2JkuX",
        "colab_type": "code",
        "colab": {}
      },
      "source": [
        ""
      ],
      "execution_count": 0,
      "outputs": []
    },
    {
      "cell_type": "code",
      "metadata": {
        "id": "_nduNsrIJkuX",
        "colab_type": "code",
        "colab": {}
      },
      "source": [
        ""
      ],
      "execution_count": 0,
      "outputs": []
    },
    {
      "cell_type": "code",
      "metadata": {
        "id": "R2a8KdLPJkuZ",
        "colab_type": "code",
        "colab": {}
      },
      "source": [
        ""
      ],
      "execution_count": 0,
      "outputs": []
    },
    {
      "cell_type": "code",
      "metadata": {
        "id": "SYyLUCibJkua",
        "colab_type": "code",
        "colab": {}
      },
      "source": [
        ""
      ],
      "execution_count": 0,
      "outputs": []
    },
    {
      "cell_type": "code",
      "metadata": {
        "id": "ltYFce7KJkub",
        "colab_type": "code",
        "colab": {}
      },
      "source": [
        ""
      ],
      "execution_count": 0,
      "outputs": []
    }
  ]
}