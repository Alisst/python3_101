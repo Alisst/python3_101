{
 "cells": [
  {
   "cell_type": "markdown",
   "metadata": {
    "colab_type": "text",
    "id": "view-in-github"
   },
   "source": [
    "<a href=\"https://colab.research.google.com/github/kaanberke/python3_101/blob/master/Python3%20101.ipynb\" target=\"_parent\"><img src=\"https://colab.research.google.com/assets/colab-badge.svg\" alt=\"Open In Colab\"/></a>"
   ]
  },
  {
   "cell_type": "markdown",
   "metadata": {
    "colab_type": "text",
    "id": "xBq8uEszJkqw"
   },
   "source": [
    "# Python 101"
   ]
  },
  {
   "cell_type": "markdown",
   "metadata": {
    "colab_type": "text",
    "id": "HMUDlnzZJkqx"
   },
   "source": [
    "![image](https://media.geeksforgeeks.org/wp-content/uploads/20191023173512/Python-data-structure.jpg)"
   ]
  },
  {
   "cell_type": "markdown",
   "metadata": {
    "colab_type": "text",
    "id": "WF0c72S0Jkqy"
   },
   "source": [
    "___\n",
    "## Karakter Dizileri ( Strings )"
   ]
  },
  {
   "cell_type": "code",
   "execution_count": 5,
   "metadata": {
    "colab": {
     "base_uri": "https://localhost:8080/",
     "height": 34
    },
    "colab_type": "code",
    "id": "WK9Tyo8qJkqz",
    "outputId": "ae2e270b-aec3-4557-f5eb-21ef680e7718"
   },
   "outputs": [
    {
     "data": {
      "text/plain": [
       "'c'"
      ]
     },
     "execution_count": 5,
     "metadata": {
      "tags": []
     },
     "output_type": "execute_result"
    }
   ],
   "source": [
    "'c'"
   ]
  },
  {
   "cell_type": "code",
   "execution_count": 0,
   "metadata": {
    "colab": {},
    "colab_type": "code",
    "id": "2u69GOy6Jkq5"
   },
   "outputs": [],
   "source": [
    "' '\n",
    "\" \"\n",
    "\"\"\" \"\"\""
   ]
  },
  {
   "cell_type": "code",
   "execution_count": 0,
   "metadata": {
    "colab": {},
    "colab_type": "code",
    "id": "bB2TZmfXJkq7"
   },
   "outputs": [],
   "source": [
    "\"Lorem ipsum\""
   ]
  },
  {
   "cell_type": "code",
   "execution_count": 0,
   "metadata": {
    "colab": {},
    "colab_type": "code",
    "id": "2x4g3wh6Jkq9"
   },
   "outputs": [],
   "source": [
    "\"\"\"\n",
    "Lorem \n",
    "ipsum\n",
    "\"\"\""
   ]
  },
  {
   "cell_type": "code",
   "execution_count": 0,
   "metadata": {
    "colab": {},
    "colab_type": "code",
    "id": "aYSkdveQJkq_"
   },
   "outputs": [],
   "source": [
    "type('Lorem ipsum')"
   ]
  },
  {
   "cell_type": "code",
   "execution_count": 0,
   "metadata": {
    "colab": {},
    "colab_type": "code",
    "id": "f3hIC_cTJkrB"
   },
   "outputs": [],
   "source": [
    "\"Lorem\" +  \" \" + \"ipsum\""
   ]
  },
  {
   "cell_type": "code",
   "execution_count": 0,
   "metadata": {
    "colab": {},
    "colab_type": "code",
    "id": "wFsjpwIsJkrE"
   },
   "outputs": [],
   "source": [
    "\"Python\" \" \" \"bir\" \" \" \"proglama\" \" \" \"dilidir.\""
   ]
  },
  {
   "cell_type": "code",
   "execution_count": 0,
   "metadata": {
    "colab": {},
    "colab_type": "code",
    "id": "j2O1BKgfJkrG"
   },
   "outputs": [],
   "source": [
    "\"Python\"*2"
   ]
  },
  {
   "cell_type": "markdown",
   "metadata": {
    "colab_type": "text",
    "id": "vQse1DFIJkrI"
   },
   "source": [
    "___\n",
    "## Sayılar ( Numbers )"
   ]
  },
  {
   "cell_type": "code",
   "execution_count": 0,
   "metadata": {
    "colab": {},
    "colab_type": "code",
    "id": "vHy6mIU1JkrI"
   },
   "outputs": [],
   "source": [
    "123"
   ]
  },
  {
   "cell_type": "code",
   "execution_count": 0,
   "metadata": {
    "colab": {},
    "colab_type": "code",
    "id": "quas3r0gJkrK"
   },
   "outputs": [],
   "source": [
    "22.3"
   ]
  },
  {
   "cell_type": "code",
   "execution_count": 0,
   "metadata": {
    "colab": {},
    "colab_type": "code",
    "id": "Ah4oWZ2QJkrM"
   },
   "outputs": [],
   "source": [
    "(7+2j)"
   ]
  },
  {
   "cell_type": "markdown",
   "metadata": {
    "colab_type": "text",
    "id": "LC5-o1chJkrO"
   },
   "source": [
    "___\n",
    "## Aritmetik Oparatörler ( Arithmetic Operators )"
   ]
  },
  {
   "cell_type": "code",
   "execution_count": 0,
   "metadata": {
    "colab": {},
    "colab_type": "code",
    "id": "ECFbr1XuJkrO"
   },
   "outputs": [],
   "source": [
    "100 - 55"
   ]
  },
  {
   "cell_type": "code",
   "execution_count": 0,
   "metadata": {
    "colab": {},
    "colab_type": "code",
    "id": "wZsYupFqJkrQ"
   },
   "outputs": [],
   "source": [
    "4.5 - 1.2"
   ]
  },
  {
   "cell_type": "code",
   "execution_count": 0,
   "metadata": {
    "colab": {},
    "colab_type": "code",
    "id": "gKx04jX5JkrS"
   },
   "outputs": [],
   "source": [
    "4.5 * 2"
   ]
  },
  {
   "cell_type": "code",
   "execution_count": 0,
   "metadata": {
    "colab": {},
    "colab_type": "code",
    "id": "3m1dbTPRJkrU"
   },
   "outputs": [],
   "source": [
    "10 / 2"
   ]
  },
  {
   "cell_type": "code",
   "execution_count": 0,
   "metadata": {
    "colab": {},
    "colab_type": "code",
    "id": "GkaKS_zyJkrW"
   },
   "outputs": [],
   "source": [
    "4**2"
   ]
  },
  {
   "cell_type": "code",
   "execution_count": 0,
   "metadata": {
    "colab": {},
    "colab_type": "code",
    "id": "x8nFQ7-2JkrY"
   },
   "outputs": [],
   "source": [
    "10 % 3"
   ]
  },
  {
   "cell_type": "code",
   "execution_count": 0,
   "metadata": {
    "colab": {},
    "colab_type": "code",
    "id": "GkuRzYdiJkra"
   },
   "outputs": [],
   "source": [
    "10 // 3"
   ]
  },
  {
   "cell_type": "code",
   "execution_count": 0,
   "metadata": {
    "colab": {},
    "colab_type": "code",
    "id": "HiVV2JdBJkrc"
   },
   "outputs": [],
   "source": [
    "pow(5, 2)"
   ]
  },
  {
   "cell_type": "code",
   "execution_count": 0,
   "metadata": {
    "colab": {},
    "colab_type": "code",
    "id": "pvzE9wvCJkre"
   },
   "outputs": [],
   "source": [
    "type(2020)"
   ]
  },
  {
   "cell_type": "code",
   "execution_count": 0,
   "metadata": {
    "colab": {},
    "colab_type": "code",
    "id": "sdr0D7FrJkrf"
   },
   "outputs": [],
   "source": [
    "saatlik_ücret = 10"
   ]
  },
  {
   "cell_type": "code",
   "execution_count": 0,
   "metadata": {
    "colab": {},
    "colab_type": "code",
    "id": "blSdUaiwJkrh"
   },
   "outputs": [],
   "source": [
    "haftalık_çalışma_saati = 40"
   ]
  },
  {
   "cell_type": "code",
   "execution_count": 0,
   "metadata": {
    "colab": {},
    "colab_type": "code",
    "id": "w84b9N1iJkrj"
   },
   "outputs": [],
   "source": [
    "maaş = haftalık_çalışma_saati * saatlik_ücret\n",
    "maaş"
   ]
  },
  {
   "cell_type": "code",
   "execution_count": 0,
   "metadata": {
    "colab": {},
    "colab_type": "code",
    "id": "ipZ5R5XpJkrk"
   },
   "outputs": [],
   "source": [
    "username = \"loremipsum\""
   ]
  },
  {
   "cell_type": "code",
   "execution_count": 0,
   "metadata": {
    "colab": {},
    "colab_type": "code",
    "id": "RWhzoaoNJkrn"
   },
   "outputs": [],
   "source": [
    "password = \"password\""
   ]
  },
  {
   "cell_type": "code",
   "execution_count": 0,
   "metadata": {
    "colab": {},
    "colab_type": "code",
    "id": "bJ-h6zLIJkrp"
   },
   "outputs": [],
   "source": [
    "len(username)"
   ]
  },
  {
   "cell_type": "code",
   "execution_count": 0,
   "metadata": {
    "colab": {},
    "colab_type": "code",
    "id": "bhiKQN4QJkrr"
   },
   "outputs": [],
   "source": [
    "len(username) + len(password)"
   ]
  },
  {
   "cell_type": "code",
   "execution_count": 0,
   "metadata": {
    "colab": {},
    "colab_type": "code",
    "id": "0h-Svli1Jkrt"
   },
   "outputs": [],
   "source": [
    "sayı = 5\n",
    "# 5\n",
    "\n",
    "sayı += 5\n",
    "print(sayı)\n",
    "# 10\n",
    "\n",
    "sayı -= 5\n",
    "print(sayı)\n",
    "# 5\n",
    "\n",
    "sayı *= 5\n",
    "print(sayı)\n",
    "# 25\n",
    "\n",
    "sayı /= 5\n",
    "print(sayı)\n",
    "# 5.0\n",
    "\n",
    "sayı **= 2\n",
    "print(sayı)\n",
    "# 25.0\n",
    "\n",
    "sayı //= 4\n",
    "print(sayı)\n",
    "# 6.0\n",
    "\n",
    "sayı %= 5\n",
    "print(sayı)\n",
    "# 1.0"
   ]
  },
  {
   "cell_type": "code",
   "execution_count": 0,
   "metadata": {
    "colab": {},
    "colab_type": "code",
    "id": "XZ3euUGuJkru"
   },
   "outputs": [],
   "source": [
    "#anahtar kelimeler\n",
    "import keyword\n",
    "keyword.kwlist"
   ]
  },
  {
   "cell_type": "code",
   "execution_count": 0,
   "metadata": {
    "colab": {},
    "colab_type": "code",
    "id": "n-5-YeXNJkrw"
   },
   "outputs": [],
   "source": [
    "del maaş"
   ]
  },
  {
   "cell_type": "markdown",
   "metadata": {
    "colab_type": "text",
    "id": "OS_gd-AjJkry"
   },
   "source": [
    "___\n",
    "## Değişkenler ( Variables )"
   ]
  },
  {
   "cell_type": "code",
   "execution_count": 0,
   "metadata": {
    "colab": {},
    "colab_type": "code",
    "id": "NVU2uRsKJkry"
   },
   "outputs": [],
   "source": [
    "değişken1 = 112\n",
    "değişken2 = 155"
   ]
  },
  {
   "cell_type": "code",
   "execution_count": 0,
   "metadata": {
    "colab": {},
    "colab_type": "code",
    "id": "YtzLclPYJkr0"
   },
   "outputs": [],
   "source": [
    "değişken1"
   ]
  },
  {
   "cell_type": "code",
   "execution_count": 0,
   "metadata": {
    "colab": {},
    "colab_type": "code",
    "id": "S_l93AIwJkr2"
   },
   "outputs": [],
   "source": [
    "değişken1, değişken2 = değişken2, değişken1"
   ]
  },
  {
   "cell_type": "code",
   "execution_count": 0,
   "metadata": {
    "colab": {},
    "colab_type": "code",
    "id": "rjy2dTpmJkr3"
   },
   "outputs": [],
   "source": [
    "değişken1"
   ]
  },
  {
   "cell_type": "markdown",
   "metadata": {
    "colab_type": "text",
    "id": "oXefclbtJkr5"
   },
   "source": [
    "___\n",
    "## Print Fonksiyonu"
   ]
  },
  {
   "cell_type": "code",
   "execution_count": 0,
   "metadata": {
    "colab": {},
    "colab_type": "code",
    "id": "zMyB-Ss8Jkr5"
   },
   "outputs": [],
   "source": [
    "print(\"Lorem\", \"Ipsum\", \"is\", \"simply\", \"dummy\", \"text\")"
   ]
  },
  {
   "cell_type": "code",
   "execution_count": 0,
   "metadata": {
    "colab": {},
    "colab_type": "code",
    "id": "WjIT8y4NJkr7"
   },
   "outputs": [],
   "source": [
    "print(\"Lorem Ipsum is simply dummy text\", sep=\" \", end=\"\\n\")"
   ]
  },
  {
   "cell_type": "code",
   "execution_count": 0,
   "metadata": {
    "colab": {},
    "colab_type": "code",
    "id": "zzrxTH1xJkr9"
   },
   "outputs": [],
   "source": [
    "print(\"Lorem\", \"Ipsum\", \"is\", \"simply\", \"dummy\", \"text\", sep=\"-\", end=\"\\n\")"
   ]
  },
  {
   "cell_type": "code",
   "execution_count": 0,
   "metadata": {
    "colab": {},
    "colab_type": "code",
    "id": "PXC2avEeJkr-"
   },
   "outputs": [],
   "source": [
    "print(\"Lorem\", \"Ipsum\", \"is\", \"simply\", \"dummy\", \"text\", sep=\"-py-\", end=\"!!\")"
   ]
  },
  {
   "cell_type": "code",
   "execution_count": 0,
   "metadata": {
    "colab": {},
    "colab_type": "code",
    "id": "ReIClT58JksB"
   },
   "outputs": [],
   "source": [
    "print(*\"Lorem ipsum\", sep=\"-\")"
   ]
  },
  {
   "cell_type": "code",
   "execution_count": 0,
   "metadata": {
    "colab": {},
    "colab_type": "code",
    "id": "1bWuHVxxJksD"
   },
   "outputs": [],
   "source": [
    "print(\"Ölü\", \"Ozanlar\", \"Derneği\", 1989)"
   ]
  },
  {
   "cell_type": "code",
   "execution_count": 0,
   "metadata": {
    "colab": {},
    "colab_type": "code",
    "id": "W2Qxkm6DJksF"
   },
   "outputs": [],
   "source": [
    "print(\"Python is an interpreted, high-level, general-purpose programming language. Created by Guido van Rossum and first released in 1991, Python has a design philosophy that emphasizes code readability, notably using significant whitespace. It provides constructs that enable clear programming on both small and large scales. \")"
   ]
  },
  {
   "cell_type": "code",
   "execution_count": 0,
   "metadata": {
    "colab": {},
    "colab_type": "code",
    "id": "4O1dUaSLJksH"
   },
   "outputs": [],
   "source": [
    "print(\"Ölü \n",
    "      Ozanlar \n",
    "      Derneği\")"
   ]
  },
  {
   "cell_type": "code",
   "execution_count": 0,
   "metadata": {
    "colab": {},
    "colab_type": "code",
    "id": "Whp0QyTfJksJ"
   },
   "outputs": [],
   "source": [
    "print(\"\"\"Ölü \n",
    "Ozanlar \n",
    "Derneği\"\"\")"
   ]
  },
  {
   "cell_type": "code",
   "execution_count": 0,
   "metadata": {
    "colab": {},
    "colab_type": "code",
    "id": "c0pdZlIWJksM"
   },
   "outputs": [],
   "source": [
    "print(\"\\\"Dünya Güneş Venüs Mars\\\"\")"
   ]
  },
  {
   "cell_type": "code",
   "execution_count": 0,
   "metadata": {
    "colab": {},
    "colab_type": "code",
    "id": "n1ItmqInJksO"
   },
   "outputs": [],
   "source": [
    "print(\"Gül sokak 10\\\\7 Merkez\\\\Niğde\")"
   ]
  },
  {
   "cell_type": "code",
   "execution_count": 0,
   "metadata": {
    "colab": {},
    "colab_type": "code",
    "id": "VvH7DFFsJksP"
   },
   "outputs": [],
   "source": [
    "print(\"Eski Satırbaşı\\rYeni\")"
   ]
  },
  {
   "cell_type": "code",
   "execution_count": 0,
   "metadata": {
    "colab": {},
    "colab_type": "code",
    "id": "Kcdy2EF8JksQ"
   },
   "outputs": [],
   "source": [
    "print(\"Birkaç satır\\taralık\")"
   ]
  },
  {
   "cell_type": "markdown",
   "metadata": {
    "colab_type": "text",
    "id": "3B7tlffyJksS"
   },
   "source": [
    "___\n",
    "## Kullanıcıdan Veri Almak ( input() )"
   ]
  },
  {
   "cell_type": "code",
   "execution_count": 0,
   "metadata": {
    "colab": {},
    "colab_type": "code",
    "id": "dkLi7oGXJksS"
   },
   "outputs": [],
   "source": [
    "isim = input(\"İsminiz: \")\n",
    "yaş = input(\"Yaşınız: \")\n",
    "print(isim, yaş)"
   ]
  },
  {
   "cell_type": "code",
   "execution_count": 0,
   "metadata": {
    "colab": {},
    "colab_type": "code",
    "id": "rn36GmZeJksT"
   },
   "outputs": [],
   "source": [
    "yaş + 10"
   ]
  },
  {
   "cell_type": "code",
   "execution_count": 0,
   "metadata": {
    "colab": {},
    "colab_type": "code",
    "id": "khSPjLXwJksV"
   },
   "outputs": [],
   "source": [
    "type(yaş)"
   ]
  },
  {
   "cell_type": "markdown",
   "metadata": {
    "colab_type": "text",
    "id": "mq-btx0zJksY"
   },
   "source": [
    "___\n",
    "## Tip Dönüşümleri ( Type Casting )"
   ]
  },
  {
   "cell_type": "code",
   "execution_count": 0,
   "metadata": {
    "colab": {},
    "colab_type": "code",
    "id": "pl9GcoiSJksY"
   },
   "outputs": [],
   "source": [
    "yaş = int(yaş) + 10\n",
    "print(yaş)\n",
    "print(type(yaş))"
   ]
  },
  {
   "cell_type": "code",
   "execution_count": 0,
   "metadata": {
    "colab": {},
    "colab_type": "code",
    "id": "GT0_jzMIJksb"
   },
   "outputs": [],
   "source": [
    "yaş = float(yaş) + 5.5\n",
    "print(yaş)\n",
    "print(type(yaş))"
   ]
  },
  {
   "cell_type": "code",
   "execution_count": 0,
   "metadata": {
    "colab": {},
    "colab_type": "code",
    "id": "tM7yyV_pJksd"
   },
   "outputs": [],
   "source": [
    "print(isim + \" \" + str(yaş) + \" yaşında!\")"
   ]
  },
  {
   "cell_type": "code",
   "execution_count": 0,
   "metadata": {
    "colab": {},
    "colab_type": "code",
    "id": "A968qrVFJksf"
   },
   "outputs": [],
   "source": [
    "print(\"Üs hesaplamak için\")\n",
    "sayı1 = int(input(\"Taban sayıyı girin: \"))\n",
    "sayı2 = int(input(\"Üs sayıyı girin: \"))\n",
    "print(sayı1, \"**\", sayı2, \"=\", sayı1**sayı2)"
   ]
  },
  {
   "cell_type": "code",
   "execution_count": 0,
   "metadata": {
    "colab": {},
    "colab_type": "code",
    "id": "xLAdbedkJksh"
   },
   "outputs": [],
   "source": [
    "print(\"Selam, benim adım {0} ve {1} yaşındayım!\".format(isim, 33))"
   ]
  },
  {
   "cell_type": "code",
   "execution_count": 0,
   "metadata": {
    "colab": {},
    "colab_type": "code",
    "id": "TQgVS2PPJksi"
   },
   "outputs": [],
   "source": [
    "print(f\"Selam, benim adım {'John Doe'} ve {yaş} yaşındayım!\")"
   ]
  },
  {
   "cell_type": "markdown",
   "metadata": {
    "colab_type": "text",
    "id": "rInHfh0wJksj"
   },
   "source": [
    "___\n",
    "## Koşullu Durumlar ( Condition Statements )"
   ]
  },
  {
   "cell_type": "code",
   "execution_count": 0,
   "metadata": {
    "colab": {},
    "colab_type": "code",
    "id": "AKf1VB6EJksk"
   },
   "outputs": [],
   "source": [
    "bool(\"\")"
   ]
  },
  {
   "cell_type": "code",
   "execution_count": 0,
   "metadata": {
    "colab": {},
    "colab_type": "code",
    "id": "jFCUE4R0Jksm"
   },
   "outputs": [],
   "source": [
    "bool(0)"
   ]
  },
  {
   "cell_type": "code",
   "execution_count": 0,
   "metadata": {
    "colab": {},
    "colab_type": "code",
    "id": "8LiNhp5DJksn"
   },
   "outputs": [],
   "source": [
    "bool(\"Lorem ipsum\")"
   ]
  },
  {
   "cell_type": "code",
   "execution_count": 0,
   "metadata": {
    "colab": {},
    "colab_type": "code",
    "id": "-LXjzNywJksp"
   },
   "outputs": [],
   "source": [
    "bool(1234)"
   ]
  },
  {
   "cell_type": "markdown",
   "metadata": {
    "colab_type": "text",
    "id": "mxpEep9qJksq"
   },
   "source": [
    "```\n",
    "==   Eşittir\n",
    "!=   Eşit Değildir\n",
    ">    Büyüktür\n",
    "<    Küçüktür\n",
    ">=   Büyük Eşittir\n",
    "<=   Küçük Eşittir\n",
    "```"
   ]
  },
  {
   "cell_type": "code",
   "execution_count": 0,
   "metadata": {
    "colab": {},
    "colab_type": "code",
    "id": "sYyNRA_kJksr"
   },
   "outputs": [],
   "source": [
    "print(\"(50 > 30) :\", (50 > 30))\n",
    "print(\"(20 > 30) :\", (20 > 30))\n",
    "print(\"(50 > 30) and (20 > 30) :\", (50 > 30) and (20 > 30))\n",
    "print(\"(50 > 30) or (20 > 30) :\", (50 > 30) or (20 > 30))"
   ]
  },
  {
   "cell_type": "code",
   "execution_count": 0,
   "metadata": {
    "colab": {},
    "colab_type": "code",
    "id": "zsJgyfC0Jkss"
   },
   "outputs": [],
   "source": [
    "print(True and False)"
   ]
  },
  {
   "cell_type": "code",
   "execution_count": 0,
   "metadata": {
    "colab": {},
    "colab_type": "code",
    "id": "FMVLr_PWJkst"
   },
   "outputs": [],
   "source": [
    "print(True and True)"
   ]
  },
  {
   "cell_type": "code",
   "execution_count": 0,
   "metadata": {
    "colab": {},
    "colab_type": "code",
    "id": "AOgWL1PUJksu"
   },
   "outputs": [],
   "source": [
    "print(not True)"
   ]
  },
  {
   "cell_type": "code",
   "execution_count": 0,
   "metadata": {
    "colab": {},
    "colab_type": "code",
    "id": "MFQ3lI0ZJksv"
   },
   "outputs": [],
   "source": [
    "a = int(input(\"Sayı giriniz:\"))\n",
    "\n",
    "if a < 10:\n",
    "    print(\"10'dan küçük!\")\n",
    "elif a < 15:\n",
    "    print(\"15'ten küçük!\")\n",
    "elif a <= 25:\n",
    "    print(\"25'ten küçük veya 25'e eşit!\")\n",
    "else:\n",
    "    print(\"25'ten büyük!\")"
   ]
  },
  {
   "cell_type": "code",
   "execution_count": 0,
   "metadata": {
    "colab": {},
    "colab_type": "code",
    "id": "cqrX-afxJksx"
   },
   "outputs": [],
   "source": [
    "gerçek_kullanıcı = \"test\"\n",
    "gerçek_şifre = \"test\"\n",
    "\n",
    "sorulan_kullanıcı = input(\"Kullanıcı adınız:\")\n",
    "sorulan_şifre = input(\"Şifreniz:\")\n",
    "if gerçek_şifre == sorulan_şifre and gerçek_kullanıcı == sorulan_kullanıcı:\n",
    "    print(\"Giriş başarılı!\")\n",
    "elif not bool(sorulan_kullanıcı):\n",
    "    print(\"Kullanıcı adı alanı boş olamaz!\")\n",
    "elif not bool(sorulan_şifre):\n",
    "    print(\"Şifre alanı boş olamaz!\")\n",
    "else:\n",
    "    print(\"Kullanıcı adı veya şifre yanlış!\")"
   ]
  },
  {
   "cell_type": "code",
   "execution_count": 0,
   "metadata": {
    "colab": {},
    "colab_type": "code",
    "id": "dSJOWv7cJksy"
   },
   "outputs": [],
   "source": [
    "cümle = \"\"\"Python, nesne yönelimli, yorumlamalı, \n",
    "birimsel ve etkileşimli yüksek seviyeli bir programlama dilidir.\"\"\"\n",
    "\n",
    "aranacak_sözcük = input(\"Sözcüğü giriniz:\")\n",
    "\n",
    "if aranacak_sözcük in cümle:\n",
    "    print(\"Aranan sözcük cümlede mevcut!\")\n",
    "else:\n",
    "    print(\"Cümlede öyle bir sözcük yok!\")"
   ]
  },
  {
   "cell_type": "markdown",
   "metadata": {
    "colab_type": "text",
    "id": "h3tDa46CJksz"
   },
   "source": [
    "### Walrus Operator"
   ]
  },
  {
   "cell_type": "code",
   "execution_count": 1,
   "metadata": {
    "colab": {
     "base_uri": "https://localhost:8080/",
     "height": 130
    },
    "colab_type": "code",
    "id": "9FvOoOzHJksz",
    "outputId": "3aa17a5d-d7d6-4edb-b69b-de32fa1680fd"
   },
   "outputs": [
    {
     "ename": "SyntaxError",
     "evalue": "ignored",
     "output_type": "error",
     "traceback": [
      "\u001b[0;36m  File \u001b[0;32m\"<ipython-input-1-f410442da023>\"\u001b[0;36m, line \u001b[0;32m1\u001b[0m\n\u001b[0;31m    if (yaş := int(input(\"Yaşınız: \"))) >= 18:\u001b[0m\n\u001b[0m            ^\u001b[0m\n\u001b[0;31mSyntaxError\u001b[0m\u001b[0;31m:\u001b[0m invalid syntax\n"
     ]
    }
   ],
   "source": [
    "if (yaş := int(input(\"Yaşınız: \"))) >= 18:\n",
    "    print(f\"{yaş} yaşındasınız, girebilirsiniz!\")\n",
    "else:\n",
    "    print(f\"{yaş} yaşındasınız, henüz giremezsiniz!\")"
   ]
  },
  {
   "cell_type": "markdown",
   "metadata": {
    "colab_type": "text",
    "id": "keNFEmgLJks1"
   },
   "source": [
    "### Dosya İşlemleri ( File Operations )"
   ]
  },
  {
   "cell_type": "code",
   "execution_count": 0,
   "metadata": {
    "colab": {},
    "colab_type": "code",
    "id": "bLCRVYjGJks1"
   },
   "outputs": [],
   "source": [
    "f = open('test.txt', 'w')\n",
    "print(\"Deneme0\", file=f, flush=True)"
   ]
  },
  {
   "cell_type": "code",
   "execution_count": 0,
   "metadata": {
    "colab": {},
    "colab_type": "code",
    "id": "uNR6hGxDJks3"
   },
   "outputs": [],
   "source": [
    "print(\"Deneme1\", file=f, flush=True)\n",
    "print(\"Deneme2\", file=f, flush=True)\n",
    "f.write('Deneme3 f.write() kullanarak')"
   ]
  },
  {
   "cell_type": "code",
   "execution_count": 0,
   "metadata": {
    "colab": {},
    "colab_type": "code",
    "id": "75k8V0ERJks4"
   },
   "outputs": [],
   "source": [
    "f.close()"
   ]
  },
  {
   "cell_type": "code",
   "execution_count": 0,
   "metadata": {
    "colab": {},
    "colab_type": "code",
    "id": "c48LOC3LJks5"
   },
   "outputs": [],
   "source": [
    "f = open('test.txt', 'r')\n",
    "print(f.read())"
   ]
  },
  {
   "cell_type": "code",
   "execution_count": 0,
   "metadata": {
    "colab": {},
    "colab_type": "code",
    "id": "0Bo2io9aJks6"
   },
   "outputs": [],
   "source": [
    "f.seek(0)\n",
    "print(f.read())"
   ]
  },
  {
   "cell_type": "code",
   "execution_count": 0,
   "metadata": {
    "colab": {},
    "colab_type": "code",
    "id": "gcz3wDZ9Jks7"
   },
   "outputs": [],
   "source": [
    "f.seek(0)\n",
    "print(f.readline())\n",
    "\n",
    "f.seek(0)\n",
    "print(f.readlines())\n",
    "\n",
    "f.close()"
   ]
  },
  {
   "cell_type": "code",
   "execution_count": 0,
   "metadata": {
    "colab": {},
    "colab_type": "code",
    "id": "qDy-qComJks8"
   },
   "outputs": [],
   "source": [
    "with open('test.txt', 'r+') as f:\n",
    "    print(f.read())\n",
    "    f.write('Denem e 4 with open() kullanarak')"
   ]
  },
  {
   "cell_type": "markdown",
   "metadata": {
    "colab_type": "text",
    "id": "XTtGXdC8Jks9"
   },
   "source": [
    "___\n",
    "## Döngüler ( Loops )"
   ]
  },
  {
   "cell_type": "code",
   "execution_count": 0,
   "metadata": {
    "colab": {},
    "colab_type": "code",
    "id": "zSxVMO7dJks9"
   },
   "outputs": [],
   "source": [
    "a = 5\n",
    "\n",
    "while a < 10:\n",
    "    print(a)\n",
    "    a += 1"
   ]
  },
  {
   "cell_type": "code",
   "execution_count": 0,
   "metadata": {
    "colab": {},
    "colab_type": "code",
    "id": "GETqbjwpJks-"
   },
   "outputs": [],
   "source": [
    "isim = \"Oğuz ATAY\"\n",
    "for harf in isim:\n",
    "    print(harf)"
   ]
  },
  {
   "cell_type": "markdown",
   "metadata": {
    "colab_type": "text",
    "id": "DSTZe9HZJks_"
   },
   "source": [
    "___\n",
    "#### range, break, continue, pass statements\n",
    "___"
   ]
  },
  {
   "cell_type": "code",
   "execution_count": 0,
   "metadata": {
    "colab": {},
    "colab_type": "code",
    "id": "9VaEuTCTJks_"
   },
   "outputs": [],
   "source": [
    "for i in range(2, 10, 2):\n",
    "    print(i, end=\" \")"
   ]
  },
  {
   "cell_type": "code",
   "execution_count": 0,
   "metadata": {
    "colab": {},
    "colab_type": "code",
    "id": "0siOxWwaJktB"
   },
   "outputs": [],
   "source": [
    "for i in range(10):\n",
    "    print(i, end=\" \")\n",
    "    if i == 5:\n",
    "        break"
   ]
  },
  {
   "cell_type": "code",
   "execution_count": 0,
   "metadata": {
    "colab": {},
    "colab_type": "code",
    "id": "M0V6IR9pJktE"
   },
   "outputs": [],
   "source": [
    "for i in range(10):\n",
    "    if i == 5:\n",
    "        continue\n",
    "    print(i, end=\" \")"
   ]
  },
  {
   "cell_type": "code",
   "execution_count": 0,
   "metadata": {
    "colab": {},
    "colab_type": "code",
    "id": "g0v7IX64JktG"
   },
   "outputs": [],
   "source": [
    "for i in range(10):\n",
    "    if i == 5:\n",
    "        pass\n",
    "    print(i, end=\" \")"
   ]
  },
  {
   "cell_type": "code",
   "execution_count": 0,
   "metadata": {
    "colab": {},
    "colab_type": "code",
    "id": "ZDm4QzVxJktH"
   },
   "outputs": [],
   "source": [
    "gerçek_kullanıcı = \"test\"\n",
    "gerçek_şifre = \"test\"\n",
    "\n",
    "while True:\n",
    "    sorulan_kullanıcı = input(\"Kullanıcı adınız:\")\n",
    "    sorulan_şifre = input(\"Şifreniz:\")\n",
    "    \n",
    "    if gerçek_şifre == sorulan_şifre and gerçek_kullanıcı == sorulan_kullanıcı:\n",
    "        print(\"Giriş başarılı!\")\n",
    "        break\n",
    "    elif not bool(sorulan_kullanıcı):\n",
    "        print(\"Kullanıcı adı alanı boş olamaz!\")\n",
    "    elif not bool(sorulan_şifre):\n",
    "        print(\"Şifre alanı boş olamaz!\")\n",
    "    else:\n",
    "        print(\"Kullanıcı adı veya şifre yanlış!\")\n",
    "    \n",
    "    print(\"*\"*30)"
   ]
  },
  {
   "cell_type": "markdown",
   "metadata": {
    "colab_type": "text",
    "id": "ybZhmq0MJktI"
   },
   "source": [
    "___\n",
    "## Hata Yakalama Try/Except/Finally ( Exception Handling )"
   ]
  },
  {
   "cell_type": "markdown",
   "metadata": {
    "colab_type": "text",
    "id": "73JXTr5QJktI"
   },
   "source": [
    "|Error Name| Description|\n",
    "| --------------------------------------|:----------------------:|\n",
    "|AssertionError|Raised when the assert statement fails.|\n",
    "|AttributeError|Raised on the attribute assignment or reference fails.|\n",
    "|EOFError|Raised when the input() function hits the end-of-file condition.|\n",
    "|FloatingPointError|Raised when a floating point operation fails.|\n",
    "|GeneratorExit|Raised when a generator's close() method is called.|\n",
    "|ImportError|Raised when the imported module is not found.|\n",
    "|IndexError|Raised when the index of a sequence is out of range.|\n",
    "|KeyError|Raised when a key is not found in a dictionary.|\n",
    "|KeyboardInterrupt|Raised when the user hits the interrupt key (Ctrl+c or delete).|\n",
    "|MemoryError|Raised when an operation runs out of memory.|\n",
    "|NameError|Raised when a variable is not found in the local or global scope.|\n",
    "|NotImplementedError|Raised by abstract methods.|\n",
    "|OSError|Raised when a system operation causes a system-related error.|\n",
    "|OverflowError|Raised when the result of an arithmetic operation is too large to be represented.|\n",
    "|ReferenceError|Raised when a weak reference proxy is used to access a garbage collected referent.|\n",
    "|RuntimeError|Raised when an error does not fall under any other category.|\n",
    "|StopIteration|Raised by the next() function to indicate that there is no further item to be returned by the iterator.|\n",
    "|SyntaxError|Raised by the parser when a syntax error is encountered.|\n",
    "|IndentationError|Raised when there is an incorrect indentation.|\n",
    "|TabError|Raised when the indentation consists of inconsistent tabs and spaces.|\n",
    "|SystemError|Raised when the interpreter detects internal error.|\n",
    "|SystemExit|Raised by the sys.exit() function.|\n",
    "|TypeError|Raised when a function or operation is applied to an object of an incorrect type.|\n",
    "|UnboundLocalError|Raised when a reference is made to a local variable in a function or method, but no value has been bound to that variable.|\n",
    "|UnicodeError|Raised when a Unicode-related encoding or decoding error occurs.|\n",
    "|UnicodeEncodeError|Raised when a Unicode-related error occurs during encoding.|\n",
    "|UnicodeDecodeError|Raised when a Unicode-related error occurs during decoding.|\n",
    "|UnicodeTranslateError|Raised when a Unicode-related error occurs during translation.|\n",
    "|ValueError|Raised when a function gets an argument of correct type but improper value.|\n",
    "|ZeroDivisionError|Raised when the second operand of a division or module operation is zero.|"
   ]
  },
  {
   "cell_type": "code",
   "execution_count": 0,
   "metadata": {
    "colab": {},
    "colab_type": "code",
    "id": "p0ldUImfJktJ"
   },
   "outputs": [],
   "source": [
    "try:\n",
    "    sayı1 = int(input(\"Bölünecek sayıyı giriniz:\"))\n",
    "    sayı2 = int(input(\"Bölecek sayıyı giriniz:\"))\n",
    "    sonuc = sayı1 / sayı2\n",
    "    print(sonuc)\n",
    "except ZeroDivisionError:\n",
    "    print(\"Herhangi bir sayı sıfıra bölünemez!\")"
   ]
  },
  {
   "cell_type": "code",
   "execution_count": 0,
   "metadata": {
    "colab": {},
    "colab_type": "code",
    "id": "_29AMcL4JktK"
   },
   "outputs": [],
   "source": [
    "yaş = int(input(\"Yaşınızı girin:\"))\n",
    "if not (yaş >= 0):\n",
    "    raise Exception(\"Yaşınız negatif bir sayı olamaz!\")"
   ]
  },
  {
   "cell_type": "code",
   "execution_count": 0,
   "metadata": {
    "colab": {},
    "colab_type": "code",
    "id": "Pg6qcDxUJktL"
   },
   "outputs": [],
   "source": [
    "parola = input(\"Parolanız:\")\n",
    "assert len(parola) != 0 and len(parola) > 6, \"Şifreniz 6 karakterden kısa olamaz!\""
   ]
  },
  {
   "cell_type": "markdown",
   "metadata": {
    "colab_type": "text",
    "id": "R2cdGsXhJktM"
   },
   "source": [
    "## Listeler ve Demetler ( Lists and Tuples )"
   ]
  },
  {
   "cell_type": "code",
   "execution_count": 0,
   "metadata": {
    "colab": {},
    "colab_type": "code",
    "id": "0c-YarJsJktM"
   },
   "outputs": [],
   "source": [
    "liste1 = []\n",
    "liste1 = list()\n",
    "print(liste1, len(liste1))\n",
    "\n",
    "liste1.append(10)\n",
    "print(liste1, len(liste1))\n",
    "\n",
    "liste1.append(20)\n",
    "liste1.append(30)\n",
    "liste1.append(40)\n",
    "print(liste1, len(liste1))"
   ]
  },
  {
   "cell_type": "code",
   "execution_count": 0,
   "metadata": {
    "colab": {},
    "colab_type": "code",
    "id": "85ZD6NSGJktN"
   },
   "outputs": [],
   "source": [
    "print(liste1[0])\n",
    "print(liste1[2])\n",
    "print(liste1[-1])"
   ]
  },
  {
   "cell_type": "code",
   "execution_count": 0,
   "metadata": {
    "colab": {},
    "colab_type": "code",
    "id": "GV9zQUhzJktO"
   },
   "outputs": [],
   "source": [
    "liste1.insert(0, 99)\n",
    "print(liste1)"
   ]
  },
  {
   "cell_type": "code",
   "execution_count": 0,
   "metadata": {
    "colab": {},
    "colab_type": "code",
    "id": "iswTCZO_JktP"
   },
   "outputs": [],
   "source": [
    "liste1.pop()\n",
    "print(liste1)"
   ]
  },
  {
   "cell_type": "code",
   "execution_count": 0,
   "metadata": {
    "colab": {},
    "colab_type": "code",
    "id": "qmDW_vdVJktR"
   },
   "outputs": [],
   "source": [
    "silinen = liste1.pop(0)\n",
    "print(liste1, silinen)"
   ]
  },
  {
   "cell_type": "code",
   "execution_count": 0,
   "metadata": {
    "colab": {},
    "colab_type": "code",
    "id": "Blji52wAJktR"
   },
   "outputs": [],
   "source": [
    "liste1.remove(30)\n",
    "print(liste1)"
   ]
  },
  {
   "cell_type": "code",
   "execution_count": 0,
   "metadata": {
    "colab": {},
    "colab_type": "code",
    "id": "nFIyZkc6JktS"
   },
   "outputs": [],
   "source": [
    "liste1 = [2, 0, 1, 7]\n",
    "liste2 = [4, 3, 2, 8]\n",
    "print(liste1, liste2)\n",
    "\n",
    "liste1.extend(liste2)\n",
    "print(liste1)"
   ]
  },
  {
   "cell_type": "code",
   "execution_count": 0,
   "metadata": {
    "colab": {},
    "colab_type": "code",
    "id": "mtY-opU2JktT"
   },
   "outputs": [],
   "source": [
    "sorted(liste1)\n",
    "print(liste1)"
   ]
  },
  {
   "cell_type": "code",
   "execution_count": 0,
   "metadata": {
    "colab": {},
    "colab_type": "code",
    "id": "3IpD2iKYJktU"
   },
   "outputs": [],
   "source": [
    "sıralanmış_liste = sorted(liste1)\n",
    "print(sıralanmış_liste)"
   ]
  },
  {
   "cell_type": "code",
   "execution_count": 0,
   "metadata": {
    "colab": {},
    "colab_type": "code",
    "id": "iWKGSMNrJktX"
   },
   "outputs": [],
   "source": [
    "liste1.sort()\n",
    "print(liste1)"
   ]
  },
  {
   "cell_type": "code",
   "execution_count": 0,
   "metadata": {
    "colab": {},
    "colab_type": "code",
    "id": "ZiU2q5dkJktY"
   },
   "outputs": [],
   "source": [
    "liste1 = [\"Elma\", \"Armut\", \"Tilki\", \"Kuş\", \"Armut\", \"Çiçek\"]\n",
    "index = liste1.index(input(\"Aranacak kelime:\"))\n",
    "print(index)"
   ]
  },
  {
   "cell_type": "code",
   "execution_count": 0,
   "metadata": {
    "colab": {},
    "colab_type": "code",
    "id": "7NIlPY-fJktZ"
   },
   "outputs": [],
   "source": [
    "liste1 = [\"Elma\", \"Armut\", \"Tilki\", \"Kuş\", \"Armut\", \"Çiçek\"]\n",
    "sayaç = liste1.count(input(\"Sayısını bulunacak kelime:\"))\n",
    "print(sayaç)"
   ]
  },
  {
   "cell_type": "code",
   "execution_count": 0,
   "metadata": {
    "colab": {},
    "colab_type": "code",
    "id": "P73rgRh5Jkta"
   },
   "outputs": [],
   "source": [
    "yeni_liste = liste1\n",
    "print(yeni_liste)"
   ]
  },
  {
   "cell_type": "code",
   "execution_count": 0,
   "metadata": {
    "colab": {},
    "colab_type": "code",
    "id": "G3pXgkgfJktb"
   },
   "outputs": [],
   "source": [
    "yeni_liste[0] = \"Muz\"\n",
    "print(yeni_liste)\n",
    "print(liste1)\n",
    "\n",
    "print(id(yeni_liste))\n",
    "print(id(liste1))"
   ]
  },
  {
   "cell_type": "code",
   "execution_count": 0,
   "metadata": {
    "colab": {},
    "colab_type": "code",
    "id": "OfbK-RcJJktc"
   },
   "outputs": [],
   "source": [
    "liste1 = [\"Elma\", \"Armut\", \"Tilki\", \"Kuş\", \"Armut\", \"Çiçek\"]\n",
    "yeni_liste = liste1.copy()"
   ]
  },
  {
   "cell_type": "code",
   "execution_count": 0,
   "metadata": {
    "colab": {},
    "colab_type": "code",
    "id": "82GNZr_pJktd"
   },
   "outputs": [],
   "source": [
    "yeni_liste[0] = \"Muz\"\n",
    "print(yeni_liste)\n",
    "print(liste1)\n",
    "\n",
    "print(id(yeni_liste))\n",
    "print(id(liste1))"
   ]
  },
  {
   "cell_type": "code",
   "execution_count": 0,
   "metadata": {
    "colab": {},
    "colab_type": "code",
    "id": "Gwn-FJsGJkte"
   },
   "outputs": [],
   "source": [
    "liste3 = [\"John\", 1, \"Doe\", 2.56, \"Oğuz\", (55+5j), \"ATAY\", ]"
   ]
  },
  {
   "cell_type": "code",
   "execution_count": 0,
   "metadata": {
    "colab": {},
    "colab_type": "code",
    "id": "llU04U0DJktf"
   },
   "outputs": [],
   "source": [
    "for i in liste3:\n",
    "    print(i, type(i))"
   ]
  },
  {
   "cell_type": "code",
   "execution_count": 0,
   "metadata": {
    "colab": {},
    "colab_type": "code",
    "id": "LPNLqjqJJktg"
   },
   "outputs": [],
   "source": [
    "matrix = [\n",
    "    [1, 2, 3, 4],\n",
    "    [9, 8, 7, 6],\n",
    "    [0, 6, 5, 2]\n",
    "]\n",
    "\n",
    "for satır in matrix:\n",
    "    for sütun in satır:\n",
    "        print(sütun, end=\" \")\n",
    "    print()"
   ]
  },
  {
   "cell_type": "code",
   "execution_count": 0,
   "metadata": {
    "colab": {},
    "colab_type": "code",
    "id": "5DymGnTAJkth"
   },
   "outputs": [],
   "source": [
    "demet = ()\n",
    "demet = tuple()\n",
    "demet = (10, 20, 25, 30, 35, 40, 35)\n",
    "\n",
    "index = demet.index(25)\n",
    "print(index)\n",
    "\n",
    "sayaç = demet.count(20)\n",
    "print(sayaç)"
   ]
  },
  {
   "cell_type": "markdown",
   "metadata": {
    "colab_type": "text",
    "id": "sip1s0KPJkth"
   },
   "source": [
    "### Matematiksel Fonksiyonlar ( Mathematical Functions ) "
   ]
  },
  {
   "cell_type": "code",
   "execution_count": 0,
   "metadata": {
    "colab": {},
    "colab_type": "code",
    "id": "lAbjCA7PJkti"
   },
   "outputs": [],
   "source": [
    "abs_number = abs(-10)\n",
    "print(abs_number)\n",
    "\n",
    "divmod_number = divmod(20, 7)\n",
    "print(divmod_number)\n",
    "# 20 // 7, 20 % 7"
   ]
  },
  {
   "cell_type": "code",
   "execution_count": 0,
   "metadata": {
    "colab": {},
    "colab_type": "code",
    "id": "kFV9DgO5Jktk"
   },
   "outputs": [],
   "source": [
    "from random import randint\n",
    "\n",
    "sayı_listesi = []\n",
    "for i in range(15):\n",
    "    sayı = randint(-10, 10)\n",
    "    sayı_listesi.append(sayı)\n",
    "\n",
    "print(sayı_listesi)"
   ]
  },
  {
   "cell_type": "code",
   "execution_count": 0,
   "metadata": {
    "colab": {},
    "colab_type": "code",
    "id": "-GV1Uph2Jktl"
   },
   "outputs": [],
   "source": [
    "string = \"{} fonksiyonunun çıktısı => {}\"\n",
    "print(\"Liste: {}\".format(sayı_listesi))\n",
    "print(string.format(\"max()\", max(sayı_listesi)))\n",
    "print(string.format(\"min()\", min(sayı_listesi)))\n",
    "print(string.format(\"sum()\", sum(sayı_listesi)))"
   ]
  },
  {
   "cell_type": "markdown",
   "metadata": {
    "colab_type": "text",
    "id": "9whjWWUdJktn"
   },
   "source": [
    "## Sözlükler ( Dictionaries )"
   ]
  },
  {
   "cell_type": "code",
   "execution_count": 0,
   "metadata": {
    "colab": {},
    "colab_type": "code",
    "id": "X6fvhH0_Jktn"
   },
   "outputs": [],
   "source": [
    "sozluk = {}\n",
    "sozluk = dict()\n",
    "\n",
    "sozluk['Elma'] = 'Apple'\n",
    "sozluk['Armut'] = 'Pear'\n",
    "sozluk['Tilki'] = 'Fox'\n",
    "\n",
    "print(sozluk)"
   ]
  },
  {
   "cell_type": "code",
   "execution_count": 0,
   "metadata": {
    "colab": {},
    "colab_type": "code",
    "id": "YxJd-yx4Jktp"
   },
   "outputs": [],
   "source": [
    "sozluk_keys = sozluk.keys()\n",
    "print(sozluk_keys)\n",
    "\n",
    "sozluk_values = sozluk.values()\n",
    "print(sozluk_values)"
   ]
  },
  {
   "cell_type": "code",
   "execution_count": 0,
   "metadata": {
    "colab": {},
    "colab_type": "code",
    "id": "eLn08kZQJktq"
   },
   "outputs": [],
   "source": [
    "\"\"\"\n",
    "for key in sozluk.keys():\n",
    "    pass\n",
    "    \n",
    "for value in sozluk.values():\n",
    "    pass\n",
    "\"\"\"\n",
    "\n",
    "for key, value in sozluk.items():\n",
    "    print(key, value)"
   ]
  },
  {
   "cell_type": "code",
   "execution_count": 0,
   "metadata": {
    "colab": {},
    "colab_type": "code",
    "id": "lXG5JnSTJktr"
   },
   "outputs": [],
   "source": [
    "print(sozluk['Armut'])\n",
    "print(sozluk['Üzüm'])"
   ]
  },
  {
   "cell_type": "code",
   "execution_count": 0,
   "metadata": {
    "colab": {},
    "colab_type": "code",
    "id": "zuETRKKKJktr"
   },
   "outputs": [],
   "source": [
    "print(sozluk.get('Üzüm'))"
   ]
  },
  {
   "cell_type": "markdown",
   "metadata": {
    "colab_type": "text",
    "id": "nRUAfOcZJkts"
   },
   "source": [
    "![image.png](attachment:image.png)"
   ]
  },
  {
   "cell_type": "code",
   "execution_count": 0,
   "metadata": {
    "colab": {},
    "colab_type": "code",
    "id": "vq5Nm1vMJktt"
   },
   "outputs": [],
   "source": [
    "sozluk.setdefault('Elma', 'Malus')"
   ]
  },
  {
   "cell_type": "code",
   "execution_count": 0,
   "metadata": {
    "colab": {},
    "colab_type": "code",
    "id": "pRETlCp_Jktt"
   },
   "outputs": [],
   "source": [
    "sozluk.setdefault('Üzüm', 'Grape')"
   ]
  },
  {
   "cell_type": "code",
   "execution_count": 0,
   "metadata": {
    "colab": {},
    "colab_type": "code",
    "id": "nqwmDQZuJktv"
   },
   "outputs": [],
   "source": [
    "sozluk.pop()"
   ]
  },
  {
   "cell_type": "markdown",
   "metadata": {
    "colab_type": "text",
    "id": "vcwht9vhJktw"
   },
   "source": [
    "## Kümeler ve Dondurulmuş Kümeler ( Sets and Frozensets )"
   ]
  },
  {
   "cell_type": "code",
   "execution_count": 0,
   "metadata": {
    "colab": {},
    "colab_type": "code",
    "id": "ADdrGsvcJktw"
   },
   "outputs": [],
   "source": [
    "küme = set()\n",
    "küme.add(1)\n",
    "küme.add(2)\n",
    "küme.add(3)\n",
    "küme.add(3)\n",
    "küme.add(3)\n",
    "küme.add(2)\n",
    "\n",
    "print(küme)"
   ]
  },
  {
   "cell_type": "code",
   "execution_count": 0,
   "metadata": {
    "colab": {},
    "colab_type": "code",
    "id": "g0IqVQc0Jktx"
   },
   "outputs": [],
   "source": [
    "liste = [10, 12, 1, 0, 2, 3, 4, 4, 2, 3, 0, 2, 1, 5]\n",
    "küme = set(liste)\n",
    "\n",
    "print(küme)"
   ]
  },
  {
   "cell_type": "code",
   "execution_count": 0,
   "metadata": {
    "colab": {},
    "colab_type": "code",
    "id": "BG4yCaSjJkty"
   },
   "outputs": [],
   "source": [
    "küme.remove(10)\n",
    "print(küme)"
   ]
  },
  {
   "cell_type": "code",
   "execution_count": 0,
   "metadata": {
    "colab": {},
    "colab_type": "code",
    "id": "mEKKQxVdJktz"
   },
   "outputs": [],
   "source": [
    "liste1 = [10, 100, 50, 30]\n",
    "liste2 = [20, 50, 90, 30]\n",
    "\n",
    "küme1 = set(liste1)\n",
    "küme2 = set(liste2)\n",
    "\n",
    "print(\"Kesişim kümesi: \", küme1.intersection(küme2))\n",
    "print(\"Birleşim kümesi: \", küme1.union(küme2))\n",
    "print(\"Küme1: \", küme1)"
   ]
  },
  {
   "cell_type": "markdown",
   "metadata": {
    "colab_type": "text",
    "id": "K8mNVP1ZJkt0"
   },
   "source": [
    "## Üç büyükler"
   ]
  },
  {
   "cell_type": "code",
   "execution_count": 0,
   "metadata": {
    "colab": {},
    "colab_type": "code",
    "id": "gl-dAUtPJkt0"
   },
   "outputs": [],
   "source": [
    "help(str)"
   ]
  },
  {
   "cell_type": "code",
   "execution_count": 0,
   "metadata": {
    "colab": {},
    "colab_type": "code",
    "id": "jD6ExYi1Jkt1"
   },
   "outputs": [],
   "source": [
    "liste = sorted([\"Ayşe\", \"Ahmet\",\"Mehmet\", \"Nuri\", \"Fatma\", \"Binnur\"])\n",
    "print(*enumerate(liste))"
   ]
  },
  {
   "cell_type": "code",
   "execution_count": 0,
   "metadata": {
    "colab": {},
    "colab_type": "code",
    "id": "gAvms22GJkt3"
   },
   "outputs": [],
   "source": [
    "for no, isim in enumerate(liste, -5):\n",
    "    print(no, isim)"
   ]
  },
  {
   "cell_type": "code",
   "execution_count": 0,
   "metadata": {
    "colab": {},
    "colab_type": "code",
    "id": "PUxB59PtJkt4"
   },
   "outputs": [],
   "source": [
    "dir(str)"
   ]
  },
  {
   "cell_type": "markdown",
   "metadata": {
    "colab_type": "text",
    "id": "9xfzMHebJkt4"
   },
   "source": [
    "## Karakter Dizilerinin Methotları ( String Methods )"
   ]
  },
  {
   "cell_type": "code",
   "execution_count": 0,
   "metadata": {
    "colab": {},
    "colab_type": "code",
    "id": "RbUcubFiJkt5"
   },
   "outputs": [],
   "source": [
    "string = 'hikmet özben'"
   ]
  },
  {
   "cell_type": "code",
   "execution_count": 0,
   "metadata": {
    "colab": {},
    "colab_type": "code",
    "id": "11EJ2W5xJkt6"
   },
   "outputs": [],
   "source": [
    "print(string[0])"
   ]
  },
  {
   "cell_type": "code",
   "execution_count": 0,
   "metadata": {
    "colab": {},
    "colab_type": "code",
    "id": "QHzrJbz-Jkt7"
   },
   "outputs": [],
   "source": [
    "print(string[0:4])\n",
    "print(string[0:len(string)])\n",
    "print(string[0:len(string):2])"
   ]
  },
  {
   "cell_type": "code",
   "execution_count": 0,
   "metadata": {
    "colab": {},
    "colab_type": "code",
    "id": "vnx6DSVpJkt-"
   },
   "outputs": [],
   "source": []
  },
  {
   "cell_type": "code",
   "execution_count": 0,
   "metadata": {
    "colab": {},
    "colab_type": "code",
    "id": "blONGE1PJkt_"
   },
   "outputs": [],
   "source": [
    "print(string.lower())\n",
    "print(string.upper())"
   ]
  },
  {
   "cell_type": "code",
   "execution_count": 0,
   "metadata": {
    "colab": {},
    "colab_type": "code",
    "id": "5W0OEZHhJkuA"
   },
   "outputs": [],
   "source": [
    "string = string.replace('özben', 'benol')\n",
    "print(string)\n",
    "\n",
    "string = string.replace('hikmet', 'turgut')\n",
    "print(string)"
   ]
  },
  {
   "cell_type": "code",
   "execution_count": 0,
   "metadata": {
    "colab": {},
    "colab_type": "code",
    "id": "7e5Q7Q-pJkuB"
   },
   "outputs": [],
   "source": [
    "print(string.islower())\n",
    "print(string.isupper())"
   ]
  },
  {
   "cell_type": "code",
   "execution_count": 0,
   "metadata": {
    "colab": {},
    "colab_type": "code",
    "id": "R5eCZqgcJkuD"
   },
   "outputs": [],
   "source": [
    "print(string.startswith('hikmet'))\n",
    "print(string.endswith('ol'))"
   ]
  },
  {
   "cell_type": "code",
   "execution_count": 0,
   "metadata": {
    "colab": {},
    "colab_type": "code",
    "id": "xgXTiG3nJkuE"
   },
   "outputs": [],
   "source": [
    "string.split()"
   ]
  },
  {
   "cell_type": "code",
   "execution_count": 0,
   "metadata": {
    "colab": {},
    "colab_type": "code",
    "id": "vkHYejIQJkuG"
   },
   "outputs": [],
   "source": [
    "string = string.split()\n",
    "string = \"cum \".join(string)\n",
    "print(string)"
   ]
  },
  {
   "cell_type": "code",
   "execution_count": 0,
   "metadata": {
    "colab": {},
    "colab_type": "code",
    "id": "uKzCcZ03JkuH"
   },
   "outputs": [],
   "source": [
    "gezegenler = \"Merkür Venüs Dünya Mars Jüpiter Satürn Uranüs Neptün\"\n",
    "gezegenler = gezegenler.split(\" \")\n",
    "print(gezegenler)\n",
    "sıralanmış_gezegenler = \" - \".join(sorted(gezegenler, reverse=True))\n",
    "print(sıralanmış_gezegenler)"
   ]
  },
  {
   "cell_type": "code",
   "execution_count": 0,
   "metadata": {
    "colab": {},
    "colab_type": "code",
    "id": "LTBL28HTJkuI"
   },
   "outputs": [],
   "source": [
    "gezegenler = \"     Merkür Venüs Dünya Mars Jüpiter Satürn Uranüs Neptün       \"\n",
    "gezegenler.strip()"
   ]
  },
  {
   "cell_type": "code",
   "execution_count": 0,
   "metadata": {
    "colab": {},
    "colab_type": "code",
    "id": "PJqqFF7OJkuJ"
   },
   "outputs": [],
   "source": [
    "gezegenler = \"     Merkür Venüs Dünya Mars Jüpiter Satürn Uranüs Neptün       \"\n",
    "gezegenler.lstrip()"
   ]
  },
  {
   "cell_type": "markdown",
   "metadata": {
    "colab_type": "text",
    "id": "V0B2QkdWJkuK"
   },
   "source": [
    "## Fonksiyonlar ( Functions )"
   ]
  },
  {
   "cell_type": "code",
   "execution_count": 0,
   "metadata": {
    "colab": {},
    "colab_type": "code",
    "id": "msp6-4AjJkuK"
   },
   "outputs": [],
   "source": [
    "def not_hesaplama(ad, puanlar):\n",
    "    ortalama = 0\n",
    "    for puan in puanlar:\n",
    "        ortalama += puan\n",
    "    ortalama /= len(puanlar)\n",
    "    \n",
    "    if ortalama > 90:\n",
    "        harf = 'A'\n",
    "    elif ortalama > 80:\n",
    "        harf = 'B'\n",
    "    elif ortalama > 60:\n",
    "        harf = 'C'\n",
    "    elif ortalama > 50:\n",
    "        harf = 'D'\n",
    "    else:\n",
    "        harf = 'F'\n",
    "    \n",
    "    print(f'İsim: {ad}\\nOrtalama: {ortalama:.2f}\\nHarf notu: {harf}\\n', end=\"-\"*20)\n",
    "\n",
    "not_hesaplama('Ahmet DENİZ', (60, 100, 75))"
   ]
  },
  {
   "cell_type": "code",
   "execution_count": 0,
   "metadata": {
    "colab": {},
    "colab_type": "code",
    "id": "0S3WZf4kJkuL"
   },
   "outputs": [],
   "source": [
    "def carp(a=10, b=10):\n",
    "    sonuc = a * b\n",
    "    return sonuc\n",
    "\n",
    "sonuc = carp()\n",
    "print(sonuc)\n",
    "\n",
    "print(carp(b=32, a=2))"
   ]
  },
  {
   "cell_type": "code",
   "execution_count": 0,
   "metadata": {
    "colab": {},
    "colab_type": "code",
    "id": "rm_MZltYJkuM"
   },
   "outputs": [],
   "source": [
    "def carp(*args):\n",
    "    sonuc = 1\n",
    "    for sayı in args:\n",
    "        sonuc *= sayı\n",
    "    return sonuc\n",
    "\n",
    "sonuc = carp(1, 2, 20, 4)\n",
    "print(sonuc)\n",
    "\n",
    "print(carp(*range(1, 10)))"
   ]
  },
  {
   "cell_type": "code",
   "execution_count": 0,
   "metadata": {
    "colab": {},
    "colab_type": "code",
    "id": "EiSy_fQzJkuO"
   },
   "outputs": [],
   "source": [
    "def siralama_yap(*args, **kwargs):\n",
    "    for no, key in enumerate(kwargs):\n",
    "        value = kwargs[key]\n",
    "        print(f'No: {no:<10}Key: {key:^20}Value: {value:>10}')\n",
    "    \n",
    "insanlar = {\n",
    "    'Ahmet': 'DENİZ', \n",
    "    'Yaşar': 'KEMAL',\n",
    "    'Ali': 'TEOMAN',\n",
    "    'Guido Van': 'ROSSUM'\n",
    "}\n",
    "siralama_yap(**insanlar)\n",
    "        "
   ]
  },
  {
   "cell_type": "code",
   "execution_count": 0,
   "metadata": {
    "colab": {},
    "colab_type": "code",
    "id": "Il7Fjz8jJkuQ"
   },
   "outputs": [],
   "source": [
    "a = 5\n",
    "def a_degistirme():\n",
    "    a = 10\n",
    "    print(a)\n",
    "a_degistirme()\n",
    "print(a)"
   ]
  },
  {
   "cell_type": "code",
   "execution_count": 0,
   "metadata": {
    "colab": {},
    "colab_type": "code",
    "id": "Ea_sU_BGJkuR"
   },
   "outputs": [],
   "source": [
    "a = 5\n",
    "def a_degistirme():\n",
    "    global a\n",
    "    a = 10\n",
    "    print(a)\n",
    "a_degistirme()\n",
    "print(a)"
   ]
  },
  {
   "cell_type": "markdown",
   "metadata": {
    "colab_type": "text",
    "id": "rGfUR7zJJkuS"
   },
   "source": [
    "## Nesne Yönelimli Programlama GİRİŞ ( Beginning OOP )"
   ]
  },
  {
   "cell_type": "code",
   "execution_count": 0,
   "metadata": {
    "colab": {},
    "colab_type": "code",
    "id": "dx6d34ekJkuS"
   },
   "outputs": [],
   "source": [
    "class Araba:\n",
    "    def sür(self):\n",
    "        print('Araba gidiyor..')\n",
    "    \n",
    "    def dur(self):\n",
    "        print('Araba duruyor..')\n",
    "        \n",
    "\n",
    "araba = Araba()\n",
    "araba.sür()\n",
    "araba.dur()\n",
    "araba.sür()"
   ]
  },
  {
   "cell_type": "code",
   "execution_count": 0,
   "metadata": {
    "colab": {},
    "colab_type": "code",
    "id": "oo_b3X7UJkuT"
   },
   "outputs": [],
   "source": [
    "class Araba:\n",
    "    \"\"\"\n",
    "    Python dersi için tanımladığımız araba sınıfımız.\n",
    "    -------------------------------------------------\n",
    "    Sınıf içerisinde arabanın yapmasını istediğimiz \n",
    "    ve yapabileceği fonksiyonları barındırıyor.\n",
    "    \"\"\"\n",
    "    def __init__(self, marka, model, yıl, renk):\n",
    "        \"\"\"\n",
    "        Bir nesne oluştururken aşağıdaki parametreleri\n",
    "        vermeyi unutmayın!\n",
    "        => Marka, Model, Yıl ve Renk\n",
    "        \"\"\"\n",
    "        self.marka = marka\n",
    "        self.model = model\n",
    "        self.yıl = yıl\n",
    "        self.renk = renk\n",
    "        self.durum = 0\n",
    "        \"\"\"\n",
    "        0: Kapalı\n",
    "        1: Çalışır halde duruyor\n",
    "        2: Gidiyor\n",
    "        \"\"\"\n",
    "        \n",
    "    def çalıştır(self):\n",
    "        self.durum = 1 if not self.durum else 1\n",
    "    \n",
    "    def durdur(self):\n",
    "        self.durum = 0 if self.durum else 1\n",
    "        \n",
    "    def sür(self):\n",
    "        if self.durum:\n",
    "            print('{} gidiyor'.format(self.model))\n",
    "            self.durum = 2\n",
    "        else:\n",
    "            print('Önce arabayı çalıştır')\n",
    "    \n",
    "    def dur(self):\n",
    "        if self.durum:\n",
    "            print('{} duruyor'.format(self.model))\n",
    "            self.durum = 1\n",
    "        else:\n",
    "            print('Önce arabayı çalıştır')\n",
    "            \n",
    "    def özellikleri_yazdır(self):\n",
    "        print(f\"Marka: {self.marka:<10}\\\n",
    "        Model: {self.model:<10}\\\n",
    "        Yıl: {self.yıl:<10}\\\n",
    "        Renk: {self.renk:<10}\")"
   ]
  },
  {
   "cell_type": "code",
   "execution_count": 0,
   "metadata": {
    "colab": {},
    "colab_type": "code",
    "id": "fNQfyFq2JkuU"
   },
   "outputs": [],
   "source": [
    "help(Araba)\n",
    "\n",
    "araba1 = Araba('Dodge', 'Challenger', '2016', 'Siyah')\n",
    "araba1.sür()\n",
    "araba1.çalıştır()\n",
    "araba1.sür()\n",
    "araba1.özellikleri_yazdır()\n",
    "araba1.dur()"
   ]
  },
  {
   "cell_type": "code",
   "execution_count": 0,
   "metadata": {
    "colab": {},
    "colab_type": "code",
    "id": "iXoLgEdTJkuV"
   },
   "outputs": [],
   "source": [
    "araba2 = Araba('Ford', 'Mustang', '1971', 'Sarı-Siyah')\n",
    "araba2.sür()\n",
    "araba2.çalıştır()\n",
    "araba2.sür()\n",
    "araba2.özellikleri_yazdır()\n",
    "araba2.dur()"
   ]
  },
  {
   "cell_type": "code",
   "execution_count": 0,
   "metadata": {
    "colab": {},
    "colab_type": "code",
    "id": "VeA3fllZJkuW"
   },
   "outputs": [],
   "source": []
  },
  {
   "cell_type": "code",
   "execution_count": 0,
   "metadata": {
    "colab": {},
    "colab_type": "code",
    "id": "GC4xL7T2JkuX"
   },
   "outputs": [],
   "source": []
  },
  {
   "cell_type": "code",
   "execution_count": 0,
   "metadata": {
    "colab": {},
    "colab_type": "code",
    "id": "_nduNsrIJkuX"
   },
   "outputs": [],
   "source": []
  },
  {
   "cell_type": "code",
   "execution_count": 0,
   "metadata": {
    "colab": {},
    "colab_type": "code",
    "id": "R2a8KdLPJkuZ"
   },
   "outputs": [],
   "source": []
  },
  {
   "cell_type": "code",
   "execution_count": 0,
   "metadata": {
    "colab": {},
    "colab_type": "code",
    "id": "SYyLUCibJkua"
   },
   "outputs": [],
   "source": []
  },
  {
   "cell_type": "code",
   "execution_count": 0,
   "metadata": {
    "colab": {},
    "colab_type": "code",
    "id": "ltYFce7KJkub"
   },
   "outputs": [],
   "source": []
  }
 ],
 "metadata": {
  "colab": {
   "include_colab_link": true,
   "name": "Python3 101.ipynb",
   "provenance": []
  },
  "kernelspec": {
   "display_name": "Python 3.8.1 64-bit ('3.8.1': pyenv)",
   "language": "python",
   "name": "python38164bit381pyenvf307e63da0224bf8a7246253ff8d7272"
  },
  "language_info": {
   "codemirror_mode": {
    "name": "ipython",
    "version": 3
   },
   "file_extension": ".py",
   "mimetype": "text/x-python",
   "name": "python",
   "nbconvert_exporter": "python",
   "pygments_lexer": "ipython3",
   "version": "3.8.1"
  }
 },
 "nbformat": 4,
 "nbformat_minor": 1
}
